{
 "cells": [
  {
   "cell_type": "code",
   "execution_count": 521,
   "metadata": {},
   "outputs": [],
   "source": [
    "import pyshacl\n",
    "from rdflib import OWL, RDF, RDFS, SH, Graph, Namespace\n",
    "import os\n",
    "import rdflib"
   ]
  },
  {
   "cell_type": "code",
   "execution_count": 534,
   "metadata": {},
   "outputs": [],
   "source": [
    "g = Graph()\n",
    "g.parse('G36_SP223-v1.0.ttl', format = 'ttl')\n",
    "g = g.skolemize()"
   ]
  },
  {
   "cell_type": "code",
   "execution_count": 535,
   "metadata": {},
   "outputs": [],
   "source": [
    "def build_query(fragment, node):\n",
    "    query_prefix = \"\"\"\n",
    "        PREFIX s223: <http://data.ashrae.org/standard223#>\n",
    "        PREFIX unit: <http://qudt.org/vocab/unit/>\n",
    "        PREFIX quantitykind: <http://qudt.org/vocab/quantitykind/>\n",
    "        PREFIX qudt: <http://qudt.org/schema/qudt/>\n",
    "        PREFIX sh: <http://www.w3.org/ns/shacl#>\n",
    "        PREFIX owl: <http://www.w3.org/2002/07/owl#>\n",
    "        PREFIX rdf: <http://www.w3.org/1999/02/22-rdf-syntax-ns#>\n",
    "        PREFIX rdfs: <http://www.w3.org/2000/01/rdf-schema#>\n",
    "        PREFIX g36: <http://data.ashrae.org/standard223/1.0/extensions/g36#>\n",
    "\n",
    "        SELECT *\n",
    "        WHERE {\n",
    "\"\"\"\n",
    "    query = query_prefix\n",
    "    query += '\\t'\n",
    "    query += fragment\n",
    "    query += '\\n'\n",
    "    query += '\\t'\n",
    "    query += f'FILTER(?node = <{node}>)'\n",
    "    query += '\\n'\n",
    "    query += '}'\n",
    "    return query"
   ]
  },
  {
   "cell_type": "code",
   "execution_count": 536,
   "metadata": {},
   "outputs": [],
   "source": [
    "query_fragments = {\n",
    "        'hasValue' : '?node sh:hasValue ?hasValue .',\n",
    "        'class': '?node sh:class ?class . ',\n",
    "        'path': '?node sh:path ?path .',\n",
    "        'next_node': '?node ( (sh:or|sh:and)/rdf:rest*/rdf:first | sh:property | sh:node/sh:property | sh:qualifiedValueShape ) ?next_node .'\n",
    "    }\n",
    "\n",
    "def recursive_query(results, node):\n",
    "    #Running different queries with each query fragment\n",
    "    for key, fragment in query_fragments.items():\n",
    "        query = build_query(fragment, node)\n",
    "        res = g.query(query)\n",
    "        # If results return for the query, it will be added to the results\n",
    "        if (len(res.bindings)) > 0:\n",
    "            # Most cases will have just 1 binding. If there are multiple bindings, we should iterate them\n",
    "            for binding in res.bindings:\n",
    "                # If the node has no results stored, we should add a dictionary entry for it \n",
    "                if results.get(binding.get('node')) is None:\n",
    "                    results[binding.get('node')] = {}\n",
    "                    results[binding.get('node')].update(binding)\n",
    "                # if the specific value returned by the query is not in the dictionary entry, we should add it\n",
    "                elif results.get(binding.get('node')).get(rdflib.term.Variable(key)) is None:\n",
    "                    results[binding.get('node')].update(binding)\n",
    "                # if the values returned by the query are already in the dictionary entry, they don't need to be added\n",
    "                # display a message in this case \n",
    "                elif results.get(binding.get('node')).get(rdflib.term.Variable(key)) == binding.get(rdflib.term.Variable(key)):\n",
    "                    print('values are the same')\n",
    "                    print(len(results.items()))\n",
    "                    if len(results.items()) > 6:\n",
    "                        return results\n",
    "                else:\n",
    "                # with and/or/multiple property queries, there may be multiple values, \n",
    "                # each next node should be dictionary of its own, chaining\n",
    "                    print('values are different')\n",
    "                if binding.get('next_node', None):\n",
    "                    # update to change structure\n",
    "                    next_node = binding.get('next_node')\n",
    "                    recursive_query(results[binding.get('node')], next_node)\n",
    "                    \n",
    "\n",
    "                    # node = binding.get('next_node')\n",
    "                    # results[node] = {}\n",
    "                    # recursive_query(results[node], node)\n",
    "        \n",
    "    return results\n",
    "\n",
    "def convert_to_str(val_dict):\n",
    "    # more recursion haha\n",
    "    new_dict = {}\n",
    "    for k, v in val_dict.items():\n",
    "        if isinstance(v, dict):\n",
    "            new_dict[str(k)] = convert_to_str(v)\n",
    "        else:\n",
    "            new_dict[str(k)] = str(v)\n",
    "    return new_dict"
   ]
  },
  {
   "cell_type": "code",
   "execution_count": null,
   "metadata": {},
   "outputs": [],
   "source": []
  },
  {
   "cell_type": "code",
   "execution_count": 537,
   "metadata": {},
   "outputs": [
    {
     "data": {
      "text/plain": [
       "{'http://data.ashrae.org/standard223/1.0/extensions/g36#ElectricHeatingCoil': {'node': 'http://data.ashrae.org/standard223/1.0/extensions/g36#ElectricHeatingCoil',\n",
       "  'class': 'http://data.ashrae.org/standard223#ResistanceHeater',\n",
       "  'next_node': 'https://rdflib.github.io/.well-known/genid/rdflib/n6218e3a7dba9477e810c8628e45d47bcb41',\n",
       "  'https://rdflib.github.io/.well-known/genid/rdflib/n6218e3a7dba9477e810c8628e45d47bcb41': {'node': 'https://rdflib.github.io/.well-known/genid/rdflib/n6218e3a7dba9477e810c8628e45d47bcb41',\n",
       "   'path': 'http://data.ashrae.org/standard223#hasProperty',\n",
       "   'next_node': 'https://rdflib.github.io/.well-known/genid/rdflib/n6218e3a7dba9477e810c8628e45d47bcb42',\n",
       "   'https://rdflib.github.io/.well-known/genid/rdflib/n6218e3a7dba9477e810c8628e45d47bcb42': {'node': 'https://rdflib.github.io/.well-known/genid/rdflib/n6218e3a7dba9477e810c8628e45d47bcb42',\n",
       "    'class': 'http://data.ashrae.org/standard223#QuantifiableActuatableProperty',\n",
       "    'next_node': 'https://rdflib.github.io/.well-known/genid/rdflib/n6218e3a7dba9477e810c8628e45d47bcb44',\n",
       "    'https://rdflib.github.io/.well-known/genid/rdflib/n6218e3a7dba9477e810c8628e45d47bcb44': {'node': 'https://rdflib.github.io/.well-known/genid/rdflib/n6218e3a7dba9477e810c8628e45d47bcb44',\n",
       "     'hasValue': 'http://qudt.org/vocab/quantitykind/DimensionlessRatio',\n",
       "     'path': 'http://qudt.org/schema/qudt/hasQuantityKind'}}}}}"
      ]
     },
     "metadata": {},
     "output_type": "display_data"
    }
   ],
   "source": [
    "results = {}\n",
    "result_list = [results]\n",
    "node = 'http://data.ashrae.org/standard223/1.0/extensions/g36#ElectricHeatingCoil'\n",
    "\n",
    "value_returned = recursive_query(results, node)\n",
    "results = convert_to_str(value_returned)\n",
    "display(results)"
   ]
  },
  {
   "cell_type": "code",
   "execution_count": 556,
   "metadata": {},
   "outputs": [
    {
     "name": "stdout",
     "output_type": "stream",
     "text": [
      "http://data.ashrae.org/standard223/1.0/extensions/g36#ElectricHeatingCoil\n",
      "node\n",
      "class\n",
      "here\n",
      "next_node\n",
      "https://rdflib.github.io/.well-known/genid/rdflib/n6218e3a7dba9477e810c8628e45d47bcb41\n",
      "node\n",
      "path\n",
      "here\n",
      "next_node\n",
      "https://rdflib.github.io/.well-known/genid/rdflib/n6218e3a7dba9477e810c8628e45d47bcb42\n",
      "node\n",
      "class\n",
      "here\n",
      "next_node\n",
      "https://rdflib.github.io/.well-known/genid/rdflib/n6218e3a7dba9477e810c8628e45d47bcb44\n",
      "node\n",
      "hasValue\n",
      "here\n",
      "path\n",
      "here\n"
     ]
    }
   ],
   "source": [
    "\n",
    "def get_node_name_map(val_dict, node_name_map = {}, i= 0):\n",
    "    for k, v in val_dict.items():\n",
    "        i += 1\n",
    "        if isinstance(v, dict):\n",
    "            get_node_name_map(v, node_name_map, i)\n",
    "            node_name_map[k] = f\"node_{i}\"\n",
    "        elif k in node_name_map:\n",
    "            continue\n",
    "        elif 'node' in k:\n",
    "            node_name_map[v] = f\"node_{i}\"\n",
    "        else:\n",
    "            continue\n",
    "    return node_name_map\n",
    "node_name_map = {}\n",
    "i= 0 = get_node_name_map(results, node_name_map, i)\n",
    "        "
   ]
  },
  {
   "cell_type": "code",
   "execution_count": 557,
   "metadata": {},
   "outputs": [
    {
     "data": {
      "text/plain": [
       "{'http://data.ashrae.org/standard223/1.0/extensions/g36#ElectricHeatingCoil': 'node_1',\n",
       " 'https://rdflib.github.io/.well-known/genid/rdflib/n6218e3a7dba9477e810c8628e45d47bcb41': 'node_5',\n",
       " 'https://rdflib.github.io/.well-known/genid/rdflib/n6218e3a7dba9477e810c8628e45d47bcb42': 'node_9',\n",
       " 'https://rdflib.github.io/.well-known/genid/rdflib/n6218e3a7dba9477e810c8628e45d47bcb44': 'node_13'}"
      ]
     },
     "execution_count": 557,
     "metadata": {},
     "output_type": "execute_result"
    }
   ],
   "source": [
    "a"
   ]
  },
  {
   "cell_type": "code",
   "execution_count": 526,
   "metadata": {},
   "outputs": [],
   "source": [
    "def sequential_numbers(start=0, step=1):\n",
    "    number = start\n",
    "    while True:\n",
    "        yield number\n",
    "        number += step"
   ]
  },
  {
   "cell_type": "code",
   "execution_count": 527,
   "metadata": {},
   "outputs": [],
   "source": [
    "def sequential_numbers(start=0, step=1):\n",
    "    number = start\n",
    "    while True:\n",
    "        yield number\n",
    "        number += step\n",
    "\n",
    "def dict_traverser(val_dict):\n",
    "    for k, v in val_dict.items():\n",
    "        if isinstance(v, dict):\n",
    "            yield from dict_traverser(v)\n",
    "        else:\n",
    "            continue\n",
    "    yield v\n",
    "\n",
    "node_seq = sequential_numbers()\n",
    "\n",
    "def create_node_name_map(results):\n",
    "    dict_generator = dict_traverser(results)\n",
    "    node_name_map = {}\n",
    "    for val_dict in dict_generator:\n",
    "        if not isinstance(val_dict, dict):\n",
    "            continue\n",
    "        for k, v in val_dict.items():\n",
    "            if k in node_name_map:\n",
    "                continue\n",
    "            elif 'node' in k:\n",
    "                node_name_map[v] = f\"node_{next(node_seq)}\"\n",
    "            elif isinstance(v, dict):\n",
    "                node_name_map[k] = f\"node_{next(node_seq)}\"\n",
    "    return node_name_map"
   ]
  },
  {
   "cell_type": "code",
   "execution_count": 528,
   "metadata": {},
   "outputs": [],
   "source": [
    "# global previous_node\n",
    "previous_node = 0\n",
    "# global temp_query \n",
    "temp_query = \"\"\"\n",
    "        PREFIX s223: <http://data.ashrae.org/standard223#>\n",
    "        PREFIX unit: <http://qudt.org/vocab/unit/>\n",
    "        PREFIX quantitykind: <http://qudt.org/vocab/quantitykind/>\n",
    "        PREFIX qudt: <http://qudt.org/schema/qudt/>\n",
    "        PREFIX sh: <http://www.w3.org/ns/shacl#>\n",
    "        PREFIX owl: <http://www.w3.org/2002/07/owl#>\n",
    "        PREFIX rdf: <http://www.w3.org/1999/02/22-rdf-syntax-ns#>\n",
    "        PREFIX rdfs: <http://www.w3.org/2000/01/rdf-schema#>\n",
    "        PREFIX g36: <http://data.ashrae.org/standard223/1.0/extensions/g36#>\n",
    "\n",
    "        SELECT *\n",
    "            WHERE {\n",
    "        \"\"\"\n",
    "\n",
    "def create_query_line(node_dict):\n",
    "    global temp_query\n",
    "    global previous_node\n",
    "    if 'class' in node_dict.keys():\n",
    "        print('here')\n",
    "        temp_query += '\\t'\n",
    "        temp_query += f\"?{node_dict.get('node')} a <{node_dict.get('class')}> .\"\n",
    "        temp_query += '\\n'\n",
    "    if 'path' in node_dict.keys():\n",
    "        temp_query += '\\t'\n",
    "        temp_query += f\"?{previous_node} <{node_dict.get('path')}> \"\n",
    "        if node_dict.get('hasValue'):\n",
    "            temp_query+= f\"<{node_dict.get('hasValue')}> .\"\n",
    "        else:\n",
    "            temp_query+= f\"?{node_dict.get('next_node')}.\"\n",
    "        temp_query += '\\n'\n",
    "    previous_node = node_dict.get('node')\n",
    "    return \n",
    "    \n",
    "\n",
    "def construct(node_dict):\n",
    "    # more recursion haha\n",
    "    create_query_line(node_dict)\n",
    "    for k, v in node_dict.items():\n",
    "        if isinstance(v, dict):\n",
    "            construct(v)\n",
    "        else:\n",
    "            continue\n",
    "    return "
   ]
  },
  {
   "cell_type": "code",
   "execution_count": 529,
   "metadata": {},
   "outputs": [],
   "source": [
    "node_name_map = create_node_name_map(results)"
   ]
  },
  {
   "cell_type": "code",
   "execution_count": 530,
   "metadata": {},
   "outputs": [],
   "source": [
    "def convert_with_map(val_dict):\n",
    "    new_dict = {}\n",
    "    for k, v in val_dict.items():\n",
    "        if isinstance(v, dict):\n",
    "            new_dict[node_name_map[k]] = convert_with_map(v)\n",
    "        elif v in node_name_map.keys(): \n",
    "            new_dict[k] = node_name_map[v]\n",
    "        else:\n",
    "            new_dict[k] = v\n",
    "    return new_dict"
   ]
  },
  {
   "cell_type": "code",
   "execution_count": 531,
   "metadata": {},
   "outputs": [
    {
     "name": "stdout",
     "output_type": "stream",
     "text": [
      "here\n",
      "here\n",
      "\n",
      "        PREFIX s223: <http://data.ashrae.org/standard223#>\n",
      "        PREFIX unit: <http://qudt.org/vocab/unit/>\n",
      "        PREFIX quantitykind: <http://qudt.org/vocab/quantitykind/>\n",
      "        PREFIX qudt: <http://qudt.org/schema/qudt/>\n",
      "        PREFIX sh: <http://www.w3.org/ns/shacl#>\n",
      "        PREFIX owl: <http://www.w3.org/2002/07/owl#>\n",
      "        PREFIX rdf: <http://www.w3.org/1999/02/22-rdf-syntax-ns#>\n",
      "        PREFIX rdfs: <http://www.w3.org/2000/01/rdf-schema#>\n",
      "        PREFIX g36: <http://data.ashrae.org/standard223/1.0/extensions/g36#>\n",
      "\n",
      "        SELECT *\n",
      "            WHERE {\n",
      "        \t?node_5 a <http://data.ashrae.org/standard223#ResistanceHeater> .\n",
      "\t?node_5 <http://data.ashrae.org/standard223#hasProperty> ?node_4.\n",
      "\t?node_4 a <http://data.ashrae.org/standard223#QuantifiableActuatableProperty> .\n",
      "\t?node_4 <http://qudt.org/schema/qudt/hasQuantityKind> <http://qudt.org/vocab/quantitykind/DimensionlessRatio> .\n",
      "}\n"
     ]
    }
   ],
   "source": [
    "construct(convert_with_map(results))\n",
    "temp_query += '}'\n",
    "print(temp_query)"
   ]
  },
  {
   "cell_type": "code",
   "execution_count": 300,
   "metadata": {},
   "outputs": [],
   "source": [
    "test = Graph()\n",
    "test.parse('test.ttl', format = 'ttl')\n",
    "res = test.query(temp_query)"
   ]
  },
  {
   "cell_type": "code",
   "execution_count": 301,
   "metadata": {},
   "outputs": [],
   "source": [
    "for r in res:\n",
    "    print(r)"
   ]
  },
  {
   "cell_type": "markdown",
   "metadata": {},
   "source": [
    "## With VAV"
   ]
  },
  {
   "cell_type": "code",
   "execution_count": 313,
   "metadata": {},
   "outputs": [
    {
     "name": "stdout",
     "output_type": "stream",
     "text": [
      "values are different\n"
     ]
    },
    {
     "data": {
      "text/plain": [
       "{'node_22': {'node': 'node_22',\n",
       "  'class': 'http://data.ashrae.org/standard223#SingleDuctTerminal',\n",
       "  'next_node': 'node_23',\n",
       "  'node_23': {'node': 'node_23',\n",
       "   'path': 'http://data.ashrae.org/standard223#contains',\n",
       "   'next_node': 'node_12',\n",
       "   'node_12': {'node': 'node_12',\n",
       "    'class': 'http://data.ashrae.org/standard223/1.0/extensions/g36#Damper'}},\n",
       "  'node_20': {'node': 'node_20',\n",
       "   'path': 'http://data.ashrae.org/standard223#hasConnectionPoint',\n",
       "   'next_node': 'node_21',\n",
       "   'node_21': {'node': 'node_21',\n",
       "    'class': 'http://data.ashrae.org/standard223#OutletConnectionPoint',\n",
       "    'next_node': 'node_19',\n",
       "    'node_19': {'node': 'node_19',\n",
       "     'path': 'http://data.ashrae.org/standard223#hasProperty',\n",
       "     'next_node': 'node_17',\n",
       "     'node_17': {'node': 'node_17',\n",
       "      'class': 'http://data.ashrae.org/standard223#QuantifiableObservableProperty',\n",
       "      'next_node': 'node_15',\n",
       "      'node_15': {'node': 'node_15',\n",
       "       'hasValue': 'http://qudt.org/vocab/quantitykind/VolumeFlowRate',\n",
       "       'path': 'http://qudt.org/schema/qudt/hasQuantityKind'}}}}}}}"
      ]
     },
     "metadata": {},
     "output_type": "display_data"
    }
   ],
   "source": [
    "results = {}\n",
    "result_list = [results]\n",
    "node = 'http://data.ashrae.org/standard223/1.0/extensions/g36#VAV'\n",
    "\n",
    "value_returned = recursive_query(results, node)\n",
    "results = convert_to_str(value_returned)\n",
    "node_name_map = create_node_name_map(results)\n",
    "results = convert_with_map(results)\n",
    "display(results)"
   ]
  },
  {
   "cell_type": "code",
   "execution_count": 314,
   "metadata": {},
   "outputs": [],
   "source": [
    "def sequential_numbers(start=0, step=1):\n",
    "    number = start\n",
    "    while True:\n",
    "        yield number\n",
    "        number += step\n",
    "\n",
    "def dict_traverser(val_dict):\n",
    "    for k, v in val_dict.items():\n",
    "        if isinstance(v, dict):\n",
    "            yield from dict_traverser(v)\n",
    "        else:\n",
    "            continue\n",
    "    yield v\n",
    "\n",
    "node_seq = sequential_numbers()\n",
    "\n",
    "def create_node_name_map(results):\n",
    "    dict_generator = dict_traverser(results)\n",
    "    node_name_map = {}\n",
    "    for val_dict in dict_generator:\n",
    "        if not isinstance(val_dict, dict):\n",
    "            continue\n",
    "        for k, v in val_dict.items():\n",
    "            if k in node_name_map:\n",
    "                continue\n",
    "            elif 'node' in k:\n",
    "                node_name_map[v] = f\"node_{next(node_seq)}\"\n",
    "            elif isinstance(v, dict):\n",
    "                node_name_map[k] = f\"node_{next(node_seq)}\"\n",
    "    return node_name_map\n",
    "node_name_map = create_node_name_map(results)"
   ]
  },
  {
   "cell_type": "code",
   "execution_count": 315,
   "metadata": {},
   "outputs": [],
   "source": [
    "\n",
    "# global previous_node\n",
    "previous_node = 0\n",
    "# global temp_query \n",
    "temp_query = \"\"\"\n",
    "        PREFIX s223: <http://data.ashrae.org/standard223#>\n",
    "        PREFIX unit: <http://qudt.org/vocab/unit/>\n",
    "        PREFIX quantitykind: <http://qudt.org/vocab/quantitykind/>\n",
    "        PREFIX qudt: <http://qudt.org/schema/qudt/>\n",
    "        PREFIX sh: <http://www.w3.org/ns/shacl#>\n",
    "        PREFIX owl: <http://www.w3.org/2002/07/owl#>\n",
    "        PREFIX rdf: <http://www.w3.org/1999/02/22-rdf-syntax-ns#>\n",
    "        PREFIX rdfs: <http://www.w3.org/2000/01/rdf-schema#>\n",
    "        PREFIX g36: <http://data.ashrae.org/standard223/1.0/extensions/g36#>\n",
    "\n",
    "        SELECT *\n",
    "            WHERE {\n",
    "        \"\"\"\n",
    "\n",
    "def create_query_line(node_dict):\n",
    "    global temp_query\n",
    "    global previous_node\n",
    "    if 'class' in node_dict.keys():\n",
    "        temp_query += '\\t'\n",
    "        temp_query += f\"?{node_dict.get('node')} a <{node_dict.get('class')}> .\"\n",
    "        temp_query += '\\n'\n",
    "    if 'path' in node_dict.keys():\n",
    "        temp_query += '\\t'\n",
    "        temp_query += f\"?{previous_node} <{node_dict.get('path')}> \"\n",
    "        if node_dict.get('hasValue'):\n",
    "            temp_query+= f\"<{node_dict.get('hasValue')}> .\"\n",
    "        else:\n",
    "            temp_query+= f\"?{node_dict.get('next_node')}.\"\n",
    "        temp_query += '\\n'\n",
    "    previous_node = node_dict.get('node')\n",
    "    return \n",
    "    \n",
    "\n",
    "def construct(node_dict):\n",
    "    # more recursion haha\n",
    "    create_query_line(node_dict)\n",
    "    for k, v in node_dict.items():\n",
    "        if isinstance(v, dict):\n",
    "            construct(v)\n",
    "        else:\n",
    "            continue\n",
    "    return \n",
    "\n",
    "construct(results)\n",
    "temp_query += '}'"
   ]
  },
  {
   "cell_type": "code",
   "execution_count": 316,
   "metadata": {},
   "outputs": [
    {
     "name": "stdout",
     "output_type": "stream",
     "text": [
      "\n",
      "        PREFIX s223: <http://data.ashrae.org/standard223#>\n",
      "        PREFIX unit: <http://qudt.org/vocab/unit/>\n",
      "        PREFIX quantitykind: <http://qudt.org/vocab/quantitykind/>\n",
      "        PREFIX qudt: <http://qudt.org/schema/qudt/>\n",
      "        PREFIX sh: <http://www.w3.org/ns/shacl#>\n",
      "        PREFIX owl: <http://www.w3.org/2002/07/owl#>\n",
      "        PREFIX rdf: <http://www.w3.org/1999/02/22-rdf-syntax-ns#>\n",
      "        PREFIX rdfs: <http://www.w3.org/2000/01/rdf-schema#>\n",
      "        PREFIX g36: <http://data.ashrae.org/standard223/1.0/extensions/g36#>\n",
      "\n",
      "        SELECT *\n",
      "            WHERE {\n",
      "        \t?node_22 a <http://data.ashrae.org/standard223#SingleDuctTerminal> .\n",
      "\t?node_22 <http://data.ashrae.org/standard223#contains> ?node_12.\n",
      "\t?node_12 a <http://data.ashrae.org/standard223/1.0/extensions/g36#Damper> .\n",
      "\t?node_12 <http://data.ashrae.org/standard223#hasConnectionPoint> ?node_21.\n",
      "\t?node_21 a <http://data.ashrae.org/standard223#OutletConnectionPoint> .\n",
      "\t?node_21 <http://data.ashrae.org/standard223#hasProperty> ?node_17.\n",
      "\t?node_17 a <http://data.ashrae.org/standard223#QuantifiableObservableProperty> .\n",
      "\t?node_17 <http://qudt.org/schema/qudt/hasQuantityKind> <http://qudt.org/vocab/quantitykind/VolumeFlowRate> .\n",
      "}\n"
     ]
    }
   ],
   "source": [
    "print(temp_query)"
   ]
  },
  {
   "cell_type": "code",
   "execution_count": 317,
   "metadata": {},
   "outputs": [
    {
     "data": {
      "text/plain": [
       "{'node_22': {'node': 'node_22',\n",
       "  'class': 'http://data.ashrae.org/standard223#SingleDuctTerminal',\n",
       "  'next_node': 'node_23',\n",
       "  'node_23': {'node': 'node_23',\n",
       "   'path': 'http://data.ashrae.org/standard223#contains',\n",
       "   'next_node': 'node_12',\n",
       "   'node_12': {'node': 'node_12',\n",
       "    'class': 'http://data.ashrae.org/standard223/1.0/extensions/g36#Damper'}},\n",
       "  'node_20': {'node': 'node_20',\n",
       "   'path': 'http://data.ashrae.org/standard223#hasConnectionPoint',\n",
       "   'next_node': 'node_21',\n",
       "   'node_21': {'node': 'node_21',\n",
       "    'class': 'http://data.ashrae.org/standard223#OutletConnectionPoint',\n",
       "    'next_node': 'node_19',\n",
       "    'node_19': {'node': 'node_19',\n",
       "     'path': 'http://data.ashrae.org/standard223#hasProperty',\n",
       "     'next_node': 'node_17',\n",
       "     'node_17': {'node': 'node_17',\n",
       "      'class': 'http://data.ashrae.org/standard223#QuantifiableObservableProperty',\n",
       "      'next_node': 'node_15',\n",
       "      'node_15': {'node': 'node_15',\n",
       "       'hasValue': 'http://qudt.org/vocab/quantitykind/VolumeFlowRate',\n",
       "       'path': 'http://qudt.org/schema/qudt/hasQuantityKind'}}}}}}}"
      ]
     },
     "execution_count": 317,
     "metadata": {},
     "output_type": "execute_result"
    }
   ],
   "source": [
    "results"
   ]
  },
  {
   "cell_type": "code",
   "execution_count": 318,
   "metadata": {},
   "outputs": [],
   "source": [
    "# At a junction, the ordering of the results will mess up the query form\n",
    "# the node before the first junction should be the node before the second junction\n",
    "dict_junctions = []\n",
    "def get_dict_junctions(node_dict):\n",
    "    # more recursion haha\n",
    "    j = 0\n",
    "    for k, v in node_dict.items():\n",
    "        if isinstance(v, dict):\n",
    "            if j > 0:\n",
    "                dict_junctions.append(dict_junction)\n",
    "                dict_junctions.append(k)\n",
    "            j = 1\n",
    "            get_dict_junctions(v)\n",
    "            dict_junction = k\n",
    "        else:\n",
    "            continue\n",
    "    return \n",
    "get_dict_junctions(results)\n"
   ]
  },
  {
   "cell_type": "code",
   "execution_count": 319,
   "metadata": {},
   "outputs": [
    {
     "data": {
      "text/plain": [
       "['node_23', 'node_20']"
      ]
     },
     "execution_count": 319,
     "metadata": {},
     "output_type": "execute_result"
    }
   ],
   "source": [
    "dict_junctions"
   ]
  },
  {
   "cell_type": "code",
   "execution_count": 393,
   "metadata": {},
   "outputs": [],
   "source": [
    "input = {\n",
    "    'a': 1,\n",
    "    'b': {\n",
    "        'b1': 'b1_val',\n",
    "        'b2': {\n",
    "            'b21': {\n",
    "                'b211': 'b211_val',\n",
    "                'b212': 'b212_val'\n",
    "            },\n",
    "            'b22': {\n",
    "                'b221': 'b221_val',\n",
    "                'b222': 'b222_val'\n",
    "            },\n",
    "            'b23': {\n",
    "                'b231': 'b221_val',\n",
    "                'b232': 'b222_val'\n",
    "            }\n",
    "        },\n",
    "        'b3': {\n",
    "            'b31': {\n",
    "                'b311': 'b311_val',\n",
    "                'b312': 'b312_val'\n",
    "            },\n",
    "            'b32': {\n",
    "                'b321': 'b321_val',\n",
    "                'b322': 'b322_val'\n",
    "            }\n",
    "        },\n",
    "    }\n",
    "    }"
   ]
  },
  {
   "cell_type": "code",
   "execution_count": null,
   "metadata": {},
   "outputs": [],
   "source": []
  },
  {
   "cell_type": "code",
   "execution_count": 417,
   "metadata": {},
   "outputs": [],
   "source": [
    "def get_parents(node_dict):\n",
    "    j = 0\n",
    "    for k, v in node_dict.items():\n",
    "        if isinstance(v, dict):\n",
    "            if set(v.keys()).intersection(dict_junctions):\n",
    "                parents.append(k)\n",
    "            get_parents(v)\n",
    "        else:\n",
    "            continue\n",
    "    return \n"
   ]
  },
  {
   "cell_type": "code",
   "execution_count": 418,
   "metadata": {},
   "outputs": [
    {
     "data": {
      "text/plain": [
       "['b21', 'b22', 'b22', 'b23', 'b2', 'b3', 'b31', 'b32']"
      ]
     },
     "execution_count": 418,
     "metadata": {},
     "output_type": "execute_result"
    }
   ],
   "source": [
    "dict_junctions= []\n",
    "parents = []\n",
    "get_dict_junctions(input)\n",
    "dict_junctions"
   ]
  },
  {
   "cell_type": "code",
   "execution_count": 419,
   "metadata": {},
   "outputs": [],
   "source": [
    "get_parents(input)"
   ]
  },
  {
   "cell_type": "code",
   "execution_count": 560,
   "metadata": {},
   "outputs": [
    {
     "data": {
      "text/plain": [
       "['b2', 'b3', 'b']"
      ]
     },
     "execution_count": 560,
     "metadata": {},
     "output_type": "execute_result"
    }
   ],
   "source": [
    "parents"
   ]
  },
  {
   "cell_type": "code",
   "execution_count": 561,
   "metadata": {},
   "outputs": [],
   "source": [
    "dict_junctions = []\n",
    "def get_dict_junctions_with_parents(node_dict):\n",
    "    # more recursion haha\n",
    "    j = 0\n",
    "    for k, v in node_dict.items():\n",
    "        if isinstance(v, dict):\n",
    "            if j == 1:\n",
    "                if dict_junction:\n",
    "                    dict_junctions.append(dict_junction)\n",
    "                    dict_junction = None\n",
    "                dict_junctions.append(k)\n",
    "            if j == 0:\n",
    "                dict_junction = k\n",
    "            j = 1\n",
    "            get_dict_junctions_with_parents(v)\n",
    "            if set(v.keys()).intersection(dict_junctions):\n",
    "                parent_dict[k] = set(v.keys()).intersection(dict_junctions)\n",
    "        else:\n",
    "            continue\n",
    "    return "
   ]
  },
  {
   "cell_type": "code",
   "execution_count": 562,
   "metadata": {},
   "outputs": [
    {
     "data": {
      "text/plain": [
       "['b21', 'b22', 'b23', 'b2', 'b3', 'b31', 'b32']"
      ]
     },
     "metadata": {},
     "output_type": "display_data"
    },
    {
     "data": {
      "text/plain": [
       "['b2', 'b3', 'b']"
      ]
     },
     "metadata": {},
     "output_type": "display_data"
    }
   ],
   "source": [
    "dict_junctions= []\n",
    "parent_dict = {}\n",
    "get_dict_junctions_with_parents(input)\n",
    "display(dict_junctions)\n",
    "display(parents)"
   ]
  },
  {
   "cell_type": "code",
   "execution_count": 458,
   "metadata": {},
   "outputs": [
    {
     "data": {
      "text/plain": [
       "{'b2': {'b21', 'b22', 'b23'}, 'b3': {'b31', 'b32'}, 'b': {'b2', 'b3'}}"
      ]
     },
     "execution_count": 458,
     "metadata": {},
     "output_type": "execute_result"
    }
   ],
   "source": [
    "# I can use the parent nodes to capture the previous node that should be used in the query generation\n",
    "# b2 would be the previous node used for b21, b22, and b23\n",
    "parent_dict"
   ]
  },
  {
   "cell_type": "markdown",
   "metadata": {},
   "source": [
    "## With Zone, reinterpretting into single property queries"
   ]
  },
  {
   "cell_type": "code",
   "execution_count": null,
   "metadata": {},
   "outputs": [],
   "source": []
  },
  {
   "cell_type": "code",
   "execution_count": 564,
   "metadata": {},
   "outputs": [
    {
     "name": "stdout",
     "output_type": "stream",
     "text": [
      "values are different\n",
      "values are different\n",
      "values are different\n",
      "values are different\n",
      "values are different\n",
      "values are different\n",
      "values are different\n",
      "values are different\n",
      "values are different\n"
     ]
    },
    {
     "data": {
      "text/plain": [
       "{'node_27': {'node': 'node_27',\n",
       "  'class': 'http://data.ashrae.org/standard223#Zone',\n",
       "  'next_node': 'node_28',\n",
       "  'node_28': {'node': 'node_28',\n",
       "   'path': 'http://data.ashrae.org/standard223#hasProperty',\n",
       "   'next_node': 'node_8',\n",
       "   'node_8': {'node': 'node_8',\n",
       "    'class': 'http://data.ashrae.org/standard223#QuantifiableObservableProperty',\n",
       "    'next_node': 'node_9',\n",
       "    'node_9': {'node': 'node_9',\n",
       "     'hasValue': 'http://qudt.org/vocab/quantitykind/Temperature',\n",
       "     'path': 'http://qudt.org/schema/qudt/hasQuantityKind'},\n",
       "    'node_7': {'node': 'node_7',\n",
       "     'hasValue': 'http://data.ashrae.org/standard223#Dimensioned-Delta',\n",
       "     'path': 'http://data.ashrae.org/standard223#hasAspect'}}},\n",
       "  'node_29': {'node': 'node_29',\n",
       "   'path': 'http://data.ashrae.org/standard223#hasProperty',\n",
       "   'next_node': 'node_11',\n",
       "   'node_11': {'node': 'node_11',\n",
       "    'class': 'http://data.ashrae.org/standard223#EnumeratedObservableProperty',\n",
       "    'next_node': 'node_12',\n",
       "    'node_12': {'node': 'node_12',\n",
       "     'hasValue': 'http://data.ashrae.org/standard223#EnumerationKind-Override',\n",
       "     'path': 'http://data.ashrae.org/standard223#hasEnumerationKind'}}},\n",
       "  'node_30': {'node': 'node_30',\n",
       "   'path': 'http://data.ashrae.org/standard223#hasProperty',\n",
       "   'next_node': 'node_14',\n",
       "   'node_14': {'node': 'node_14',\n",
       "    'class': 'http://data.ashrae.org/standard223#EnumeratedObservableProperty',\n",
       "    'next_node': 'node_15',\n",
       "    'node_15': {'node': 'node_15',\n",
       "     'hasValue': 'http://data.ashrae.org/standard223#EnumerationKind-OnOff',\n",
       "     'path': 'http://data.ashrae.org/standard223#hasEnumerationKind'},\n",
       "    'node_13': {'node': 'node_13',\n",
       "     'class': 'http://data.ashrae.org/standard223#Window',\n",
       "     'path': 'https://rdflib.github.io/.well-known/genid/rdflib/n6218e3a7dba9477e810c8628e45d47bcb93'}}},\n",
       "  'node_31': {'node': 'node_31',\n",
       "   'path': 'http://data.ashrae.org/standard223#hasProperty',\n",
       "   'next_node': 'node_17',\n",
       "   'node_17': {'node': 'node_17',\n",
       "    'class': 'http://data.ashrae.org/standard223#QuantifiableObservableProperty',\n",
       "    'next_node': 'node_18',\n",
       "    'node_18': {'node': 'node_18',\n",
       "     'hasValue': 'http://qudt.org/vocab/quantitykind/DimensionlessRatio',\n",
       "     'path': 'http://qudt.org/schema/qudt/hasQuantityKind'},\n",
       "    'node_16': {'node': 'node_16',\n",
       "     'hasValue': 'http://data.ashrae.org/standard223#Substance-CO2',\n",
       "     'path': 'http://data.ashrae.org/standard223#ofSubstance'}}},\n",
       "  'node_32': {'node': 'node_32',\n",
       "   'path': 'http://data.ashrae.org/standard223#hasProperty',\n",
       "   'next_node': 'node_20',\n",
       "   'node_20': {'node': 'node_20',\n",
       "    'class': 'http://data.ashrae.org/standard223#EnumeratedObservableProperty',\n",
       "    'next_node': 'node_21',\n",
       "    'node_21': {'node': 'node_21',\n",
       "     'hasValue': 'http://data.ashrae.org/standard223#EnumerationKind-Occupancy',\n",
       "     'path': 'http://data.ashrae.org/standard223#hasEnumerationKind'}}},\n",
       "  'node_33': {'node': 'node_33',\n",
       "   'hasValue': 'http://data.ashrae.org/standard223#Domain-HVAC',\n",
       "   'path': 'http://data.ashrae.org/standard223#hasDomain'},\n",
       "  'node_25': {'node': 'node_25',\n",
       "   'path': 'http://data.ashrae.org/standard223#hasProperty',\n",
       "   'next_node': 'node_26',\n",
       "   'node_26': {'node': 'node_26',\n",
       "    'class': 'http://data.ashrae.org/standard223#QuantifiableObservableProperty',\n",
       "    'next_node': 'node_24',\n",
       "    'node_24': {'node': 'node_24',\n",
       "     'hasValue': 'http://qudt.org/vocab/quantitykind/Temperature',\n",
       "     'path': 'http://qudt.org/schema/qudt/hasQuantityKind'}}}}}"
      ]
     },
     "metadata": {},
     "output_type": "display_data"
    }
   ],
   "source": [
    "results = {}\n",
    "result_list = [results]\n",
    "node = 'http://data.ashrae.org/standard223/1.0/extensions/g36#Zone'\n",
    "\n",
    "value_returned = recursive_query(results, node)\n",
    "results = convert_to_str(value_returned)\n",
    "node_name_map = create_node_name_map(results)\n",
    "results = convert_with_map(results)\n",
    "display(results)"
   ]
  },
  {
   "cell_type": "code",
   "execution_count": 565,
   "metadata": {},
   "outputs": [
    {
     "data": {
      "text/plain": [
       "['node_9',\n",
       " 'node_7',\n",
       " 'node_28',\n",
       " 'node_29',\n",
       " 'node_30',\n",
       " 'node_15',\n",
       " 'node_13',\n",
       " 'node_31',\n",
       " 'node_18',\n",
       " 'node_16',\n",
       " 'node_32',\n",
       " 'node_33',\n",
       " 'node_25']"
      ]
     },
     "metadata": {},
     "output_type": "display_data"
    },
    {
     "data": {
      "text/plain": [
       "{'node_8': {'node_7', 'node_9'},\n",
       " 'node_14': {'node_13', 'node_15'},\n",
       " 'node_17': {'node_16', 'node_18'},\n",
       " 'node_27': {'node_25',\n",
       "  'node_28',\n",
       "  'node_29',\n",
       "  'node_30',\n",
       "  'node_31',\n",
       "  'node_32',\n",
       "  'node_33'}}"
      ]
     },
     "metadata": {},
     "output_type": "display_data"
    }
   ],
   "source": [
    "dict_junctions= []\n",
    "parent_dict = {}\n",
    "get_dict_junctions_with_parents(results)\n",
    "display(dict_junctions)\n",
    "display(parent_dict)\n"
   ]
  },
  {
   "cell_type": "code",
   "execution_count": 571,
   "metadata": {},
   "outputs": [],
   "source": [
    "def get_node_parent(parent_dict, node_name):\n",
    "    for k, v in parent_dict.items():\n",
    "        if isinstance(v, dict):\n",
    "            get_node_parent(v)\n",
    "        elif isinstance(v, set):\n",
    "            if node_name in v:\n",
    "                parent_node_name = k\n",
    "        else:\n",
    "            continue\n",
    "    return parent_node_name"
   ]
  },
  {
   "cell_type": "code",
   "execution_count": 572,
   "metadata": {},
   "outputs": [
    {
     "data": {
      "text/plain": [
       "'node_27'"
      ]
     },
     "execution_count": 572,
     "metadata": {},
     "output_type": "execute_result"
    }
   ],
   "source": [
    "get_node_parent(parent_dict, 'node_25')"
   ]
  },
  {
   "cell_type": "code",
   "execution_count": 573,
   "metadata": {},
   "outputs": [],
   "source": [
    "def get_node_parent(node_name, parent_dict):\n",
    "    _, _, parent_node_name = _get_node_parent(parent_dict, node_name)\n",
    "    return parent_node_name\n",
    "def _get_node_parent(parent_dict, node_name, parent_node_name = ''):\n",
    "    for k, v in parent_dict.items():\n",
    "        if isinstance(v, dict):\n",
    "            _get_node_parent(v, parent_node_name)\n",
    "        elif isinstance(v, set):\n",
    "            if node_name in v:\n",
    "                parent_node_name = k\n",
    "        else:\n",
    "            continue\n",
    "    return parent_dict, node_name, parent_node_name"
   ]
  },
  {
   "cell_type": "code",
   "execution_count": 574,
   "metadata": {},
   "outputs": [],
   "source": [
    "def get_node_parent(node_name, parent_dict):\n",
    "    _, _, parent_node_name = _get_node_parent(parent_dict, node_name)\n",
    "    return parent_node_name\n"
   ]
  },
  {
   "cell_type": "code",
   "execution_count": 575,
   "metadata": {},
   "outputs": [],
   "source": [
    "node_name = 'node_56'\n",
    "parent_node_name = 'this'\n",
    "parent_node_name = get_node_parent(node_name, parent_dict)"
   ]
  },
  {
   "cell_type": "code",
   "execution_count": 576,
   "metadata": {},
   "outputs": [
    {
     "data": {
      "text/plain": [
       "''"
      ]
     },
     "execution_count": 576,
     "metadata": {},
     "output_type": "execute_result"
    }
   ],
   "source": [
    "parent_node_name"
   ]
  },
  {
   "cell_type": "code",
   "execution_count": 577,
   "metadata": {},
   "outputs": [],
   "source": [
    "# node_seq = sequential_numbers()\n",
    "# node_name_map = create_node_name_map(results)"
   ]
  },
  {
   "cell_type": "code",
   "execution_count": 578,
   "metadata": {},
   "outputs": [],
   "source": [
    "# global previous_node\n",
    "previous_node = 0\n",
    "# global temp_query \n",
    "temp_query = \"\"\"\n",
    "        PREFIX s223: <http://data.ashrae.org/standard223#>\n",
    "        PREFIX unit: <http://qudt.org/vocab/unit/>\n",
    "        PREFIX quantitykind: <http://qudt.org/vocab/quantitykind/>\n",
    "        PREFIX qudt: <http://qudt.org/schema/qudt/>\n",
    "        PREFIX sh: <http://www.w3.org/ns/shacl#>\n",
    "        PREFIX owl: <http://www.w3.org/2002/07/owl#>\n",
    "        PREFIX rdf: <http://www.w3.org/1999/02/22-rdf-syntax-ns#>\n",
    "        PREFIX rdfs: <http://www.w3.org/2000/01/rdf-schema#>\n",
    "        PREFIX g36: <http://data.ashrae.org/standard223/1.0/extensions/g36#>\n",
    "\n",
    "        SELECT *\n",
    "            WHERE {\n",
    "        \"\"\"\n",
    "\n",
    "def create_query_line(node_dict):\n",
    "    global temp_query\n",
    "    global previous_node\n",
    "    if 'class' in node_dict.keys():\n",
    "        temp_query += '\\t'\n",
    "        temp_query += f\"?{node_dict.get('node')} a <{node_dict.get('class')}> .\"\n",
    "        temp_query += '\\n'\n",
    "    if 'path' in node_dict.keys():\n",
    "        if node_dict.get('node') in dict_junctions:\n",
    "            previous_node = get_node_parent(node_dict.get('node'), parent_dict)\n",
    "        temp_query += '\\t'\n",
    "        temp_query += f\"?{previous_node} <{node_dict.get('path')}> \"\n",
    "        if node_dict.get('hasValue'):\n",
    "            temp_query+= f\"<{node_dict.get('hasValue')}> .\"\n",
    "        else:\n",
    "            temp_query+= f\"?{node_dict.get('next_node')}.\"\n",
    "        temp_query += '\\n'\n",
    "    previous_node = node_dict.get('node')\n",
    "    return \n",
    "    \n",
    "\n",
    "def construct(node_dict):\n",
    "    # more recursion haha\n",
    "    create_query_line(node_dict)\n",
    "    for k, v in node_dict.items():\n",
    "        if isinstance(v, dict):\n",
    "            construct(v)\n",
    "        else:\n",
    "            continue\n",
    "    return \n",
    "\n",
    "construct(results)\n",
    "temp_query += '}'"
   ]
  },
  {
   "cell_type": "code",
   "execution_count": 579,
   "metadata": {},
   "outputs": [
    {
     "name": "stdout",
     "output_type": "stream",
     "text": [
      "\n",
      "        PREFIX s223: <http://data.ashrae.org/standard223#>\n",
      "        PREFIX unit: <http://qudt.org/vocab/unit/>\n",
      "        PREFIX quantitykind: <http://qudt.org/vocab/quantitykind/>\n",
      "        PREFIX qudt: <http://qudt.org/schema/qudt/>\n",
      "        PREFIX sh: <http://www.w3.org/ns/shacl#>\n",
      "        PREFIX owl: <http://www.w3.org/2002/07/owl#>\n",
      "        PREFIX rdf: <http://www.w3.org/1999/02/22-rdf-syntax-ns#>\n",
      "        PREFIX rdfs: <http://www.w3.org/2000/01/rdf-schema#>\n",
      "        PREFIX g36: <http://data.ashrae.org/standard223/1.0/extensions/g36#>\n",
      "\n",
      "        SELECT *\n",
      "            WHERE {\n",
      "        \t?node_27 a <http://data.ashrae.org/standard223#Zone> .\n",
      "\t?node_27 <http://data.ashrae.org/standard223#hasProperty> ?node_8.\n",
      "\t?node_8 a <http://data.ashrae.org/standard223#QuantifiableObservableProperty> .\n",
      "\t?node_8 <http://qudt.org/schema/qudt/hasQuantityKind> <http://qudt.org/vocab/quantitykind/Temperature> .\n",
      "\t?node_8 <http://data.ashrae.org/standard223#hasAspect> <http://data.ashrae.org/standard223#Dimensioned-Delta> .\n",
      "\t?node_27 <http://data.ashrae.org/standard223#hasProperty> ?node_11.\n",
      "\t?node_11 a <http://data.ashrae.org/standard223#EnumeratedObservableProperty> .\n",
      "\t?node_11 <http://data.ashrae.org/standard223#hasEnumerationKind> <http://data.ashrae.org/standard223#EnumerationKind-Override> .\n",
      "\t?node_27 <http://data.ashrae.org/standard223#hasProperty> ?node_14.\n",
      "\t?node_14 a <http://data.ashrae.org/standard223#EnumeratedObservableProperty> .\n",
      "\t?node_14 <http://data.ashrae.org/standard223#hasEnumerationKind> <http://data.ashrae.org/standard223#EnumerationKind-OnOff> .\n",
      "\t?node_13 a <http://data.ashrae.org/standard223#Window> .\n",
      "\t?node_14 <https://rdflib.github.io/.well-known/genid/rdflib/n6218e3a7dba9477e810c8628e45d47bcb93> ?None.\n",
      "\t?node_27 <http://data.ashrae.org/standard223#hasProperty> ?node_17.\n",
      "\t?node_17 a <http://data.ashrae.org/standard223#QuantifiableObservableProperty> .\n",
      "\t?node_17 <http://qudt.org/schema/qudt/hasQuantityKind> <http://qudt.org/vocab/quantitykind/DimensionlessRatio> .\n",
      "\t?node_17 <http://data.ashrae.org/standard223#ofSubstance> <http://data.ashrae.org/standard223#Substance-CO2> .\n",
      "\t?node_27 <http://data.ashrae.org/standard223#hasProperty> ?node_20.\n",
      "\t?node_20 a <http://data.ashrae.org/standard223#EnumeratedObservableProperty> .\n",
      "\t?node_20 <http://data.ashrae.org/standard223#hasEnumerationKind> <http://data.ashrae.org/standard223#EnumerationKind-Occupancy> .\n",
      "\t?node_27 <http://data.ashrae.org/standard223#hasDomain> <http://data.ashrae.org/standard223#Domain-HVAC> .\n",
      "\t?node_27 <http://data.ashrae.org/standard223#hasProperty> ?node_26.\n",
      "\t?node_26 a <http://data.ashrae.org/standard223#QuantifiableObservableProperty> .\n",
      "\t?node_26 <http://qudt.org/schema/qudt/hasQuantityKind> <http://qudt.org/vocab/quantitykind/Temperature> .\n",
      "}\n"
     ]
    }
   ],
   "source": [
    "print(temp_query)"
   ]
  },
  {
   "cell_type": "code",
   "execution_count": 514,
   "metadata": {},
   "outputs": [],
   "source": [
    "def delete_unhandled_paths(query):\n",
    "    query_list = temp_query.split('\\n')\n",
    "    new_query = ''\n",
    "    for line in query_list:\n",
    "        if '?None' in line:\n",
    "            print(line)\n",
    "            print('Unhandled line, likely due to complex property path')\n",
    "        else:\n",
    "            new_query += '\\n'\n",
    "            new_query += line\n",
    "    return new_query\n",
    "    "
   ]
  },
  {
   "cell_type": "code",
   "execution_count": 515,
   "metadata": {},
   "outputs": [
    {
     "name": "stdout",
     "output_type": "stream",
     "text": [
      "\t?node_40 <https://rdflib.github.io/.well-known/genid/rdflib/n0a5634c387ec4df0835e2eb53f0b38fdb93> ?None.\n",
      "Unhandled line, likely due to complex property path\n"
     ]
    }
   ],
   "source": [
    "new_query = delete_unhandled_paths(temp_query)"
   ]
  },
  {
   "cell_type": "code",
   "execution_count": 517,
   "metadata": {},
   "outputs": [
    {
     "name": "stdout",
     "output_type": "stream",
     "text": [
      "\n",
      "\n",
      "        PREFIX s223: <http://data.ashrae.org/standard223#>\n",
      "        PREFIX unit: <http://qudt.org/vocab/unit/>\n",
      "        PREFIX quantitykind: <http://qudt.org/vocab/quantitykind/>\n",
      "        PREFIX qudt: <http://qudt.org/schema/qudt/>\n",
      "        PREFIX sh: <http://www.w3.org/ns/shacl#>\n",
      "        PREFIX owl: <http://www.w3.org/2002/07/owl#>\n",
      "        PREFIX rdf: <http://www.w3.org/1999/02/22-rdf-syntax-ns#>\n",
      "        PREFIX rdfs: <http://www.w3.org/2000/01/rdf-schema#>\n",
      "        PREFIX g36: <http://data.ashrae.org/standard223/1.0/extensions/g36#>\n",
      "\n",
      "        SELECT *\n",
      "            WHERE {\n",
      "        \t?node_59 a <http://data.ashrae.org/standard223#Zone> .\n",
      "\t?node_59 <http://data.ashrae.org/standard223#hasProperty> ?node_40.\n",
      "\t?node_40 a <http://data.ashrae.org/standard223#EnumeratedObservableProperty> .\n",
      "\t?node_41 a <http://data.ashrae.org/standard223#Window> .\n",
      "\t?node_40 <http://data.ashrae.org/standard223#hasEnumerationKind> <http://data.ashrae.org/standard223#EnumerationKind-OnOff> .\n",
      "\t?node_59 <http://data.ashrae.org/standard223#hasProperty> ?node_43.\n",
      "\t?node_43 a <http://data.ashrae.org/standard223#QuantifiableObservableProperty> .\n",
      "\t?node_43 <http://qudt.org/schema/qudt/hasQuantityKind> <http://qudt.org/vocab/quantitykind/DimensionlessRatio> .\n",
      "\t?node_43 <http://data.ashrae.org/standard223#ofSubstance> <http://data.ashrae.org/standard223#Substance-CO2> .\n",
      "\t?node_59 <http://data.ashrae.org/standard223#hasProperty> ?node_46.\n",
      "\t?node_46 a <http://data.ashrae.org/standard223#QuantifiableObservableProperty> .\n",
      "\t?node_46 <http://qudt.org/schema/qudt/hasQuantityKind> <http://qudt.org/vocab/quantitykind/Temperature> .\n",
      "\t?node_59 <http://data.ashrae.org/standard223#hasProperty> ?node_49.\n",
      "\t?node_49 a <http://data.ashrae.org/standard223#EnumeratedObservableProperty> .\n",
      "\t?node_49 <http://data.ashrae.org/standard223#hasEnumerationKind> <http://data.ashrae.org/standard223#EnumerationKind-Override> .\n",
      "\t?node_59 <http://data.ashrae.org/standard223#hasProperty> ?node_52.\n",
      "\t?node_52 a <http://data.ashrae.org/standard223#EnumeratedObservableProperty> .\n",
      "\t?node_52 <http://data.ashrae.org/standard223#hasEnumerationKind> <http://data.ashrae.org/standard223#EnumerationKind-Occupancy> .\n",
      "\t?node_59 <http://data.ashrae.org/standard223#hasDomain> <http://data.ashrae.org/standard223#Domain-HVAC> .\n",
      "\t?node_59 <http://data.ashrae.org/standard223#hasProperty> ?node_58.\n",
      "\t?node_58 a <http://data.ashrae.org/standard223#QuantifiableObservableProperty> .\n",
      "\t?node_58 <http://data.ashrae.org/standard223#hasAspect> <http://data.ashrae.org/standard223#Dimensioned-Delta> .\n",
      "\t?node_58 <http://qudt.org/schema/qudt/hasQuantityKind> <http://qudt.org/vocab/quantitykind/Temperature> .\n",
      "}\n"
     ]
    }
   ],
   "source": [
    "print(new_query)"
   ]
  },
  {
   "cell_type": "markdown",
   "metadata": {},
   "source": [
    "# Experimenting"
   ]
  },
  {
   "cell_type": "code",
   "execution_count": 648,
   "metadata": {},
   "outputs": [
    {
     "name": "stdout",
     "output_type": "stream",
     "text": [
      "{'node': 'http://data.ashrae.org/standard223/1.0/extensions/g36#ElectricHeatingCoil', 'class': 'http://data.ashrae.org/standard223#ResistanceHeater', 'next_node': 'https://rdflib.github.io/.well-known/genid/rdflib/nde5f9027b5594f6cb3ce243df260dfecb41', 'https://rdflib.github.io/.well-known/genid/rdflib/nde5f9027b5594f6cb3ce243df260dfecb41': {'node': 'https://rdflib.github.io/.well-known/genid/rdflib/nde5f9027b5594f6cb3ce243df260dfecb41', 'path': 'http://data.ashrae.org/standard223#hasProperty', 'next_node': 'https://rdflib.github.io/.well-known/genid/rdflib/nde5f9027b5594f6cb3ce243df260dfecb42', 'https://rdflib.github.io/.well-known/genid/rdflib/nde5f9027b5594f6cb3ce243df260dfecb42': {'node': 'https://rdflib.github.io/.well-known/genid/rdflib/nde5f9027b5594f6cb3ce243df260dfecb42', 'class': 'http://data.ashrae.org/standard223#QuantifiableActuatableProperty', 'next_node': 'https://rdflib.github.io/.well-known/genid/rdflib/nde5f9027b5594f6cb3ce243df260dfecb44', 'https://rdflib.github.io/.well-known/genid/rdflib/nde5f9027b5594f6cb3ce243df260dfecb44': {'node': 'https://rdflib.github.io/.well-known/genid/rdflib/nde5f9027b5594f6cb3ce243df260dfecb44', 'hasValue': 'http://qudt.org/vocab/quantitykind/DimensionlessRatio', 'path': 'http://qudt.org/schema/qudt/hasQuantityKind'}}}}\n",
      "here\n"
     ]
    }
   ],
   "source": [
    "temp_query = \"\"\n",
    "for k, v in results.items():\n",
    "    for k, v in results.items():\n",
    "        print(v)\n",
    "        if 'class' in v.keys():\n",
    "            print('here')\n",
    "            temp_query += '\\t'\n",
    "            temp_query += f\"?{v.get('node')} a <{v.get('class')}> .\"\n",
    "            temp_query += '\\n'\n",
    "        previous_node = v.get('node')\n",
    "\n",
    "        if 'path' in v.keys():\n",
    "            temp_query += '\\t'\n",
    "            temp_query += f\"?{previous_node} {v.get('path')} \"\n",
    "            if 'hasValue' in v.keys():\n",
    "                temp_query+= f\"{results.get('hasValue')} .\"\n",
    "            elif results.get('next_node'):\n",
    "                temp_query+= f\"? {results.get('next_node')}.\"\n",
    "            else:\n",
    "                # just constraining that it has this path\n",
    "                print('no value or next node')\n",
    "                temp_query+= f\"next_node_for_path.\"\n",
    "            temp_query += '\\n'\n",
    "        \n"
   ]
  },
  {
   "cell_type": "code",
   "execution_count": 12,
   "metadata": {},
   "outputs": [
    {
     "data": {
      "text/plain": [
       "' results could be converted to query as \\nnode1 a resistance heater\\nnode1 hasProperty node3\\nnode3 a quantifiableacutatableproperty \\nnode3 hasQuantityKind hasValue\\n'"
      ]
     },
     "execution_count": 12,
     "metadata": {},
     "output_type": "execute_result"
    }
   ],
   "source": [
    "\"\"\" results could be converted to query as \n",
    "node1 a resistance heater\n",
    "node1 hasProperty node3\n",
    "node3 a quantifiableacutatableproperty \n",
    "node3 hasQuantityKind hasValue\n",
    "\"\"\"\n"
   ]
  },
  {
   "cell_type": "code",
   "execution_count": 13,
   "metadata": {},
   "outputs": [
    {
     "name": "stdout",
     "output_type": "stream",
     "text": [
      "{'node': 'http://data.ashrae.org/standard223/1.0/extensions/g36#ElectricHeatingCoil', 'class': 'http://data.ashrae.org/standard223#ResistanceHeater', 'next_node': 'https://rdflib.github.io/.well-known/genid/rdflib/n483a9c539c724f7b80937df3223463e8b41', 'https://rdflib.github.io/.well-known/genid/rdflib/n483a9c539c724f7b80937df3223463e8b41': {'node': 'https://rdflib.github.io/.well-known/genid/rdflib/n483a9c539c724f7b80937df3223463e8b41', 'path': 'http://data.ashrae.org/standard223#hasProperty', 'next_node': 'https://rdflib.github.io/.well-known/genid/rdflib/n483a9c539c724f7b80937df3223463e8b42', 'https://rdflib.github.io/.well-known/genid/rdflib/n483a9c539c724f7b80937df3223463e8b42': {'node': 'https://rdflib.github.io/.well-known/genid/rdflib/n483a9c539c724f7b80937df3223463e8b42', 'class': 'http://data.ashrae.org/standard223#QuantifiableActuatableProperty', 'next_node': 'https://rdflib.github.io/.well-known/genid/rdflib/n483a9c539c724f7b80937df3223463e8b44', 'https://rdflib.github.io/.well-known/genid/rdflib/n483a9c539c724f7b80937df3223463e8b44': {'node': 'https://rdflib.github.io/.well-known/genid/rdflib/n483a9c539c724f7b80937df3223463e8b44', 'hasValue': 'http://qudt.org/vocab/quantitykind/DimensionlessRatio', 'path': 'http://qudt.org/schema/qudt/hasQuantityKind'}}}}\n",
      "{'node': 'https://rdflib.github.io/.well-known/genid/rdflib/n483a9c539c724f7b80937df3223463e8b41', 'path': 'http://data.ashrae.org/standard223#hasProperty', 'next_node': 'https://rdflib.github.io/.well-known/genid/rdflib/n483a9c539c724f7b80937df3223463e8b42', 'https://rdflib.github.io/.well-known/genid/rdflib/n483a9c539c724f7b80937df3223463e8b42': {'node': 'https://rdflib.github.io/.well-known/genid/rdflib/n483a9c539c724f7b80937df3223463e8b42', 'class': 'http://data.ashrae.org/standard223#QuantifiableActuatableProperty', 'next_node': 'https://rdflib.github.io/.well-known/genid/rdflib/n483a9c539c724f7b80937df3223463e8b44', 'https://rdflib.github.io/.well-known/genid/rdflib/n483a9c539c724f7b80937df3223463e8b44': {'node': 'https://rdflib.github.io/.well-known/genid/rdflib/n483a9c539c724f7b80937df3223463e8b44', 'hasValue': 'http://qudt.org/vocab/quantitykind/DimensionlessRatio', 'path': 'http://qudt.org/schema/qudt/hasQuantityKind'}}}\n",
      "{'node': 'https://rdflib.github.io/.well-known/genid/rdflib/n483a9c539c724f7b80937df3223463e8b42', 'class': 'http://data.ashrae.org/standard223#QuantifiableActuatableProperty', 'next_node': 'https://rdflib.github.io/.well-known/genid/rdflib/n483a9c539c724f7b80937df3223463e8b44', 'https://rdflib.github.io/.well-known/genid/rdflib/n483a9c539c724f7b80937df3223463e8b44': {'node': 'https://rdflib.github.io/.well-known/genid/rdflib/n483a9c539c724f7b80937df3223463e8b44', 'hasValue': 'http://qudt.org/vocab/quantitykind/DimensionlessRatio', 'path': 'http://qudt.org/schema/qudt/hasQuantityKind'}}\n",
      "{'node': 'https://rdflib.github.io/.well-known/genid/rdflib/n483a9c539c724f7b80937df3223463e8b44', 'hasValue': 'http://qudt.org/vocab/quantitykind/DimensionlessRatio', 'path': 'http://qudt.org/schema/qudt/hasQuantityKind'}\n"
     ]
    }
   ],
   "source": [
    "node_dict = results.copy()\n",
    "for i in range(0,10):\n",
    "    for k, v in node_dict.items():\n",
    "        if isinstance(v, dict):\n",
    "            node_dict = v \n",
    "            print(v)\n",
    "            break"
   ]
  },
  {
   "cell_type": "code",
   "execution_count": 650,
   "metadata": {},
   "outputs": [
    {
     "name": "stdout",
     "output_type": "stream",
     "text": [
      "\t?http://data.ashrae.org/standard223/1.0/extensions/g36#ElectricHeatingCoil a <http://data.ashrae.org/standard223#ResistanceHeater> .\n",
      "\n"
     ]
    }
   ],
   "source": [
    "print(temp_query)"
   ]
  },
  {
   "cell_type": "code",
   "execution_count": null,
   "metadata": {},
   "outputs": [],
   "source": [
    "\"\"\" results could be converted to query as \n",
    "node1 a resistance heater\n",
    "node1 hasProperty node3\n",
    "node3 a quantifiableacutatableproperty \n",
    "node3 hasQuantityKind hasValue\n",
    "\"\"\"\n"
   ]
  },
  {
   "cell_type": "code",
   "execution_count": 885,
   "metadata": {},
   "outputs": [],
   "source": [
    "def convert_to_list_dicts(val_dict):\n",
    "    dict_list = []\n",
    "    for k, v in val_dict.items():\n",
    "        amt = get_dict_amounts(v)\n",
    "        if isinstance(v, dict):\n",
    "            amt -= 1\n",
    "            if amt == 0:\n",
    "                new_dict[k] = convert_to_str(v)\n",
    "        else:\n",
    "            new_dict[str(k)] = str(v)\n",
    "    return new_dict\n",
    "\n",
    "def get_dict_amounts(d):\n",
    "    i = 0\n",
    "    for k, v in d.items():\n",
    "        if isinstance(v, dict):\n",
    "            i += 1\n",
    "    return i\n",
    "    "
   ]
  },
  {
   "cell_type": "code",
   "execution_count": 678,
   "metadata": {},
   "outputs": [],
   "source": [
    "def construct(val_dict):\n",
    "    # more recursion haha\n",
    "    new_dict = {}\n",
    "    for k, v in val_dict.items():\n",
    "        if isinstance(v, dict):\n",
    "            new_dict[str(k)] = construct(v)\n",
    "            print(get_dict_amounts(v))\n",
    "            print(k)\n",
    "        else:\n",
    "            new_dict[str(k)] = str(v)\n",
    "    return new_dict"
   ]
  },
  {
   "cell_type": "code",
   "execution_count": 679,
   "metadata": {},
   "outputs": [
    {
     "name": "stdout",
     "output_type": "stream",
     "text": [
      "0\n",
      "https://rdflib.github.io/.well-known/genid/rdflib/nde5f9027b5594f6cb3ce243df260dfecb44\n",
      "1\n",
      "https://rdflib.github.io/.well-known/genid/rdflib/nde5f9027b5594f6cb3ce243df260dfecb42\n",
      "1\n",
      "https://rdflib.github.io/.well-known/genid/rdflib/nde5f9027b5594f6cb3ce243df260dfecb41\n",
      "1\n",
      "http://data.ashrae.org/standard223/1.0/extensions/g36#ElectricHeatingCoil\n"
     ]
    },
    {
     "data": {
      "text/plain": [
       "{'http://data.ashrae.org/standard223/1.0/extensions/g36#ElectricHeatingCoil': {'node': 'http://data.ashrae.org/standard223/1.0/extensions/g36#ElectricHeatingCoil',\n",
       "  'class': 'http://data.ashrae.org/standard223#ResistanceHeater',\n",
       "  'next_node': 'https://rdflib.github.io/.well-known/genid/rdflib/nde5f9027b5594f6cb3ce243df260dfecb41',\n",
       "  'https://rdflib.github.io/.well-known/genid/rdflib/nde5f9027b5594f6cb3ce243df260dfecb41': {'node': 'https://rdflib.github.io/.well-known/genid/rdflib/nde5f9027b5594f6cb3ce243df260dfecb41',\n",
       "   'path': 'http://data.ashrae.org/standard223#hasProperty',\n",
       "   'next_node': 'https://rdflib.github.io/.well-known/genid/rdflib/nde5f9027b5594f6cb3ce243df260dfecb42',\n",
       "   'https://rdflib.github.io/.well-known/genid/rdflib/nde5f9027b5594f6cb3ce243df260dfecb42': {'node': 'https://rdflib.github.io/.well-known/genid/rdflib/nde5f9027b5594f6cb3ce243df260dfecb42',\n",
       "    'class': 'http://data.ashrae.org/standard223#QuantifiableActuatableProperty',\n",
       "    'next_node': 'https://rdflib.github.io/.well-known/genid/rdflib/nde5f9027b5594f6cb3ce243df260dfecb44',\n",
       "    'https://rdflib.github.io/.well-known/genid/rdflib/nde5f9027b5594f6cb3ce243df260dfecb44': {'node': 'https://rdflib.github.io/.well-known/genid/rdflib/nde5f9027b5594f6cb3ce243df260dfecb44',\n",
       "     'hasValue': 'http://qudt.org/vocab/quantitykind/DimensionlessRatio',\n",
       "     'path': 'http://qudt.org/schema/qudt/hasQuantityKind'}}}}}"
      ]
     },
     "execution_count": 679,
     "metadata": {},
     "output_type": "execute_result"
    }
   ],
   "source": [
    "construct(results)"
   ]
  },
  {
   "cell_type": "code",
   "execution_count": 604,
   "metadata": {},
   "outputs": [
    {
     "ename": "KeyError",
     "evalue": "3",
     "output_type": "error",
     "traceback": [
      "\u001b[0;31m---------------------------------------------------------------------------\u001b[0m",
      "\u001b[0;31mKeyError\u001b[0m                                  Traceback (most recent call last)",
      "Cell \u001b[0;32mIn[604], line 1\u001b[0m\n\u001b[0;32m----> 1\u001b[0m single_paths \u001b[39m=\u001b[39m convert_to_list_dicts([results])\n",
      "Cell \u001b[0;32mIn[602], line 61\u001b[0m, in \u001b[0;36mconvert_to_list_dicts\u001b[0;34m(single_paths)\u001b[0m\n\u001b[1;32m     59\u001b[0m \u001b[39mfor\u001b[39;00m k, v \u001b[39min\u001b[39;00m single_paths[i]\u001b[39m.\u001b[39mitems():\n\u001b[1;32m     60\u001b[0m     \u001b[39mif\u001b[39;00m \u001b[39misinstance\u001b[39m(v, \u001b[39mdict\u001b[39m):\n\u001b[0;32m---> 61\u001b[0m         single_paths[i][\u001b[39mstr\u001b[39m(k)] \u001b[39m=\u001b[39m convert_to_list_dicts(v)\n\u001b[1;32m     62\u001b[0m     \u001b[39melse\u001b[39;00m:\n\u001b[1;32m     63\u001b[0m         single_paths[i][\u001b[39mstr\u001b[39m(k)] \u001b[39m=\u001b[39m \u001b[39mstr\u001b[39m(v)\n",
      "Cell \u001b[0;32mIn[602], line 59\u001b[0m, in \u001b[0;36mconvert_to_list_dicts\u001b[0;34m(single_paths)\u001b[0m\n\u001b[1;32m     57\u001b[0m \u001b[39mdef\u001b[39;00m \u001b[39mconvert_to_list_dicts\u001b[39m(single_paths):\n\u001b[1;32m     58\u001b[0m     i \u001b[39m=\u001b[39m \u001b[39mlen\u001b[39m(single_paths) \u001b[39m-\u001b[39m \u001b[39m1\u001b[39m\n\u001b[0;32m---> 59\u001b[0m     \u001b[39mfor\u001b[39;00m k, v \u001b[39min\u001b[39;00m single_paths[i]\u001b[39m.\u001b[39mitems():\n\u001b[1;32m     60\u001b[0m         \u001b[39mif\u001b[39;00m \u001b[39misinstance\u001b[39m(v, \u001b[39mdict\u001b[39m):\n\u001b[1;32m     61\u001b[0m             single_paths[i][\u001b[39mstr\u001b[39m(k)] \u001b[39m=\u001b[39m convert_to_list_dicts(v)\n",
      "\u001b[0;31mKeyError\u001b[0m: 3"
     ]
    }
   ],
   "source": [
    "single_paths = convert_to_list_dicts([results])"
   ]
  },
  {
   "cell_type": "code",
   "execution_count": 605,
   "metadata": {},
   "outputs": [
    {
     "data": {
      "text/plain": [
       "[{'node': 'https://rdflib.github.io/.well-known/genid/rdflib/nde5f9027b5594f6cb3ce243df260dfecb44',\n",
       "  'class': 'http://data.ashrae.org/standard223#QuantifiableActuatableProperty',\n",
       "  'next_node': 'https://rdflib.github.io/.well-known/genid/rdflib/nde5f9027b5594f6cb3ce243df260dfecb44',\n",
       "  'path': 'http://qudt.org/schema/qudt/hasQuantityKind',\n",
       "  'hasValue': 'http://qudt.org/vocab/quantitykind/DimensionlessRatio',\n",
       "  'https://rdflib.github.io/.well-known/genid/rdflib/nde5f9027b5594f6cb3ce243df260dfecb44': {...},\n",
       "  'https://rdflib.github.io/.well-known/genid/rdflib/nde5f9027b5594f6cb3ce243df260dfecb43': {...},\n",
       "  'https://rdflib.github.io/.well-known/genid/rdflib/nde5f9027b5594f6cb3ce243df260dfecb42': {...},\n",
       "  'https://rdflib.github.io/.well-known/genid/rdflib/nde5f9027b5594f6cb3ce243df260dfecb41': {...},\n",
       "  'http://data.ashrae.org/standard223/1.0/extensions/g36#ElectricHeatingCoil': {...}}]"
      ]
     },
     "metadata": {},
     "output_type": "display_data"
    }
   ],
   "source": [
    "display(single_paths)"
   ]
  },
  {
   "cell_type": "code",
   "execution_count": 510,
   "metadata": {},
   "outputs": [
    {
     "name": "stdout",
     "output_type": "stream",
     "text": [
      "https://rdflib.github.io/.well-known/genid/rdflib/nde5f9027b5594f6cb3ce243df260dfecb41\n",
      "https://rdflib.github.io/.well-known/genid/rdflib/nde5f9027b5594f6cb3ce243df260dfecb42\n"
     ]
    }
   ],
   "source": [
    "for k, v in results['https://rdflib.github.io/.well-known/genid/rdflib/nde5f9027b5594f6cb3ce243df260dfecb41'].items():\n",
    "    print(k)"
   ]
  },
  {
   "cell_type": "code",
   "execution_count": 370,
   "metadata": {},
   "outputs": [
    {
     "name": "stdout",
     "output_type": "stream",
     "text": [
      "https://rdflib.github.io/.well-known/genid/rdflib/nde5f9027b5594f6cb3ce243df260dfecb41\n",
      "https://rdflib.github.io/.well-known/genid/rdflib/nde5f9027b5594f6cb3ce243df260dfecb42\n",
      "https://rdflib.github.io/.well-known/genid/rdflib/nde5f9027b5594f6cb3ce243df260dfecb43\n",
      "https://rdflib.github.io/.well-known/genid/rdflib/nde5f9027b5594f6cb3ce243df260dfecb44\n",
      "values are the same\n",
      "values are the same\n"
     ]
    }
   ],
   "source": [
    "results = {}\n",
    "result_list = [results]\n",
    "node = 'http://data.ashrae.org/standard223/1.0/extensions/g36#ElectricHeatingCoil'\n",
    "for i in range(0,6):\n",
    "    #Running different queries with each query fragment\n",
    "    for key, fragment in query_fragments.items():\n",
    "        query = build_query(fragment, node)\n",
    "        res = g.query(query)\n",
    "        # If results return for the query, it will be added to the results\n",
    "        if (len(res.bindings)) > 0:\n",
    "            # Most cases will have just 1 binding. If there are multiple bindings, we should iterate them\n",
    "            for binding in res.bindings:\n",
    "                # If the node has no results stored, we should add a dictionary entry for it \n",
    "                if results.get(binding.get('node')) is None:\n",
    "                    results[binding.get('node')] = {}\n",
    "                    results[binding.get('node')].update(binding)\n",
    "                # if the specific value returned by the query is not in the dictionary entry, we should add it\n",
    "                elif results.get(binding.get('node')).get(rdflib.term.Variable(key)) is None:\n",
    "                    results[binding.get('node')].update(binding)\n",
    "                # if the values returned by the query are already in the dictionary entry, they don't need to be added\n",
    "                # display a message in this case \n",
    "                elif results.get(binding.get('node')).get(rdflib.term.Variable(key)) == binding.get(rdflib.term.Variable(key)):\n",
    "                    print('values are the same')\n",
    "                else:\n",
    "                # with and/or/multiple property queries, there may be multiple values, \n",
    "                # each next node should be dictionary of its own, chaining\n",
    "                    print('values are different')\n",
    "                if binding.get('next_node', None):\n",
    "                    node = binding.get('next_node')\n",
    "                    print(node)\n"
   ]
  },
  {
   "cell_type": "code",
   "execution_count": 371,
   "metadata": {},
   "outputs": [
    {
     "data": {
      "text/plain": [
       "True"
      ]
     },
     "execution_count": 371,
     "metadata": {},
     "output_type": "execute_result"
    }
   ],
   "source": [
    "results == value_returned"
   ]
  },
  {
   "cell_type": "code",
   "execution_count": 331,
   "metadata": {},
   "outputs": [
    {
     "data": {
      "text/plain": [
       "{rdflib.term.URIRef('http://data.ashrae.org/standard223/1.0/extensions/g36#ElectricHeatingCoil'): {rdflib.term.Variable('node'): rdflib.term.URIRef('http://data.ashrae.org/standard223/1.0/extensions/g36#ElectricHeatingCoil'),\n",
       "  rdflib.term.Variable('class'): rdflib.term.URIRef('http://data.ashrae.org/standard223#ResistanceHeater'),\n",
       "  rdflib.term.Variable('next_node'): rdflib.term.URIRef('https://rdflib.github.io/.well-known/genid/rdflib/nde5f9027b5594f6cb3ce243df260dfecb41')},\n",
       " rdflib.term.URIRef('https://rdflib.github.io/.well-known/genid/rdflib/nde5f9027b5594f6cb3ce243df260dfecb41'): {rdflib.term.Variable('node'): rdflib.term.URIRef('https://rdflib.github.io/.well-known/genid/rdflib/nde5f9027b5594f6cb3ce243df260dfecb41'),\n",
       "  rdflib.term.Variable('path'): rdflib.term.URIRef('http://data.ashrae.org/standard223#hasProperty'),\n",
       "  rdflib.term.Variable('next_node'): rdflib.term.URIRef('https://rdflib.github.io/.well-known/genid/rdflib/nde5f9027b5594f6cb3ce243df260dfecb42')},\n",
       " rdflib.term.URIRef('https://rdflib.github.io/.well-known/genid/rdflib/nde5f9027b5594f6cb3ce243df260dfecb42'): {rdflib.term.Variable('node'): rdflib.term.URIRef('https://rdflib.github.io/.well-known/genid/rdflib/nde5f9027b5594f6cb3ce243df260dfecb42'),\n",
       "  rdflib.term.Variable('class'): rdflib.term.URIRef('http://data.ashrae.org/standard223#QuantifiableActuatableProperty'),\n",
       "  rdflib.term.Variable('next_node'): rdflib.term.URIRef('https://rdflib.github.io/.well-known/genid/rdflib/nde5f9027b5594f6cb3ce243df260dfecb43')},\n",
       " rdflib.term.URIRef('https://rdflib.github.io/.well-known/genid/rdflib/nde5f9027b5594f6cb3ce243df260dfecb43'): {rdflib.term.Variable('node'): rdflib.term.URIRef('https://rdflib.github.io/.well-known/genid/rdflib/nde5f9027b5594f6cb3ce243df260dfecb43'),\n",
       "  rdflib.term.Variable('next_node'): rdflib.term.URIRef('https://rdflib.github.io/.well-known/genid/rdflib/nde5f9027b5594f6cb3ce243df260dfecb44')},\n",
       " rdflib.term.URIRef('https://rdflib.github.io/.well-known/genid/rdflib/nde5f9027b5594f6cb3ce243df260dfecb44'): {rdflib.term.Variable('node'): rdflib.term.URIRef('https://rdflib.github.io/.well-known/genid/rdflib/nde5f9027b5594f6cb3ce243df260dfecb44'),\n",
       "  rdflib.term.Variable('hasValue'): rdflib.term.URIRef('http://qudt.org/vocab/quantitykind/DimensionlessRatio'),\n",
       "  rdflib.term.Variable('path'): rdflib.term.URIRef('http://qudt.org/schema/qudt/hasQuantityKind')}}"
      ]
     },
     "execution_count": 331,
     "metadata": {},
     "output_type": "execute_result"
    }
   ],
   "source": [
    "results\n",
    "# results.get('http://data.ashrae.org/standard223/1.0/extensions/g36#ElectricHeatingCoil')"
   ]
  },
  {
   "cell_type": "code",
   "execution_count": 327,
   "metadata": {},
   "outputs": [
    {
     "data": {
      "text/plain": [
       "rdflib.term.URIRef('http://data.ashrae.org/standard223#ResistanceHeater')"
      ]
     },
     "execution_count": 327,
     "metadata": {},
     "output_type": "execute_result"
    }
   ],
   "source": [
    "results.get(rdflib.term.URIRef('http://data.ashrae.org/standard223/1.0/extensions/g36#ElectricHeatingCoil'))"
   ]
  },
  {
   "cell_type": "code",
   "execution_count": 273,
   "metadata": {},
   "outputs": [],
   "source": [
    "next_node = 'http://data.ashrae.org/standard223/1.0/extensions/g36#ElectricHeatingCoil'\n",
    "query = query_prefix\n",
    "query += '\\t'\n",
    "query += query_fragments.get('next_node')\n",
    "query += '\\n'\n",
    "query += '\\t'\n",
    "query += f'FILTER(?node = <{next_node}>)'\n",
    "query += '\\n'\n",
    "query += '}'"
   ]
  },
  {
   "cell_type": "code",
   "execution_count": 274,
   "metadata": {},
   "outputs": [],
   "source": [
    "query_typed = \"\"\"\n",
    "PREFIX s223: <http://data.ashrae.org/standard223#>\n",
    "PREFIX unit: <http://qudt.org/vocab/unit/>\n",
    "PREFIX quantitykind: <http://qudt.org/vocab/quantitykind/>\n",
    "PREFIX qudt: <http://qudt.org/schema/qudt/>\n",
    "PREFIX sh: <http://www.w3.org/ns/shacl#>\n",
    "PREFIX owl: <http://www.w3.org/2002/07/owl#>\n",
    "PREFIX rdf: <http://www.w3.org/1999/02/22-rdf-syntax-ns#>\n",
    "PREFIX rdfs: <http://www.w3.org/2000/01/rdf-schema#>\n",
    "PREFIX g36: <http://data.ashrae.org/standard223/1.0/extensions/g36#>\n",
    "\n",
    "SELECT *\n",
    "WHERE {\n",
    "  ?node ( (sh:or|sh:and)/rdf:rest*/rdf:first | sh:property | sh:node | sh:qualifiedValueShape ) ?object .\n",
    "  FILTER(?node = <https://rdflib.github.io/.well-known/genid/rdflib/nde5f9027b5594f6cb3ce243df260dfecb41>) \n",
    "}\n",
    "\"\"\""
   ]
  },
  {
   "cell_type": "code",
   "execution_count": 276,
   "metadata": {},
   "outputs": [
    {
     "data": {
      "text/plain": [
       "[{rdflib.term.Variable('node'): rdflib.term.URIRef('https://rdflib.github.io/.well-known/genid/rdflib/nde5f9027b5594f6cb3ce243df260dfecb41'), rdflib.term.Variable('object'): rdflib.term.URIRef('https://rdflib.github.io/.well-known/genid/rdflib/nde5f9027b5594f6cb3ce243df260dfecb42')}]"
      ]
     },
     "execution_count": 276,
     "metadata": {},
     "output_type": "execute_result"
    }
   ],
   "source": [
    "res =  g.query(query_typed)\n",
    "res.bindings"
   ]
  },
  {
   "cell_type": "code",
   "execution_count": 258,
   "metadata": {},
   "outputs": [
    {
     "name": "stdout",
     "output_type": "stream",
     "text": [
      "[{rdflib.term.Variable('node'): rdflib.term.URIRef('http://data.ashrae.org/standard223/1.0/extensions/g36#ElectricHeatingCoil'), rdflib.term.Variable('next_node'): rdflib.term.URIRef('https://rdflib.github.io/.well-known/genid/rdflib/nde5f9027b5594f6cb3ce243df260dfecb41')}]\n",
      "[{rdflib.term.Variable('node'): rdflib.term.URIRef('http://data.ashrae.org/standard223/1.0/extensions/g36#ElectricHeatingCoil'), rdflib.term.Variable('next_node'): rdflib.term.URIRef('https://rdflib.github.io/.well-known/genid/rdflib/nde5f9027b5594f6cb3ce243df260dfecb41')}]\n",
      "[{rdflib.term.Variable('node'): rdflib.term.URIRef('http://data.ashrae.org/standard223/1.0/extensions/g36#ElectricHeatingCoil'), rdflib.term.Variable('next_node'): rdflib.term.URIRef('https://rdflib.github.io/.well-known/genid/rdflib/nde5f9027b5594f6cb3ce243df260dfecb41')}]\n",
      "[{rdflib.term.Variable('node'): rdflib.term.URIRef('http://data.ashrae.org/standard223/1.0/extensions/g36#ElectricHeatingCoil'), rdflib.term.Variable('next_node'): rdflib.term.URIRef('https://rdflib.github.io/.well-known/genid/rdflib/nde5f9027b5594f6cb3ce243df260dfecb41')}]\n",
      "[{rdflib.term.Variable('node'): rdflib.term.URIRef('http://data.ashrae.org/standard223/1.0/extensions/g36#ElectricHeatingCoil'), rdflib.term.Variable('next_node'): rdflib.term.URIRef('https://rdflib.github.io/.well-known/genid/rdflib/nde5f9027b5594f6cb3ce243df260dfecb41')}]\n",
      "[{rdflib.term.Variable('node'): rdflib.term.URIRef('http://data.ashrae.org/standard223/1.0/extensions/g36#ElectricHeatingCoil'), rdflib.term.Variable('next_node'): rdflib.term.URIRef('https://rdflib.github.io/.well-known/genid/rdflib/nde5f9027b5594f6cb3ce243df260dfecb41')}]\n",
      "[{rdflib.term.Variable('node'): rdflib.term.URIRef('http://data.ashrae.org/standard223/1.0/extensions/g36#ElectricHeatingCoil'), rdflib.term.Variable('next_node'): rdflib.term.URIRef('https://rdflib.github.io/.well-known/genid/rdflib/nde5f9027b5594f6cb3ce243df260dfecb41')}]\n",
      "[{rdflib.term.Variable('node'): rdflib.term.URIRef('http://data.ashrae.org/standard223/1.0/extensions/g36#ElectricHeatingCoil'), rdflib.term.Variable('next_node'): rdflib.term.URIRef('https://rdflib.github.io/.well-known/genid/rdflib/nde5f9027b5594f6cb3ce243df260dfecb41')}]\n",
      "[{rdflib.term.Variable('node'): rdflib.term.URIRef('http://data.ashrae.org/standard223/1.0/extensions/g36#ElectricHeatingCoil'), rdflib.term.Variable('next_node'): rdflib.term.URIRef('https://rdflib.github.io/.well-known/genid/rdflib/nde5f9027b5594f6cb3ce243df260dfecb41')}]\n",
      "[{rdflib.term.Variable('node'): rdflib.term.URIRef('http://data.ashrae.org/standard223/1.0/extensions/g36#ElectricHeatingCoil'), rdflib.term.Variable('next_node'): rdflib.term.URIRef('https://rdflib.github.io/.well-known/genid/rdflib/nde5f9027b5594f6cb3ce243df260dfecb41')}]\n"
     ]
    }
   ],
   "source": [
    "results = []\n",
    "next_node = 'http://data.ashrae.org/standard223/1.0/extensions/g36#ElectricHeatingCoil'\n",
    "for i in range(0,10):\n",
    "    try:\n",
    "        res = g.query(query)\n",
    "        # next_node = res._bindings[0]['next_node']\n",
    "        print(res.bindings)\n",
    "        results.append(res)\n",
    "    except Exception as e:\n",
    "        print(i, e)\n"
   ]
  },
  {
   "cell_type": "code",
   "execution_count": 234,
   "metadata": {},
   "outputs": [
    {
     "data": {
      "text/plain": [
       "[<rdflib.plugins.sparql.processor.SPARQLResult at 0x115763e10>,\n",
       " <rdflib.plugins.sparql.processor.SPARQLResult at 0x116a1dfd0>,\n",
       " <rdflib.plugins.sparql.processor.SPARQLResult at 0x1169dab10>,\n",
       " <rdflib.plugins.sparql.processor.SPARQLResult at 0x116a44650>,\n",
       " <rdflib.plugins.sparql.processor.SPARQLResult at 0x1145b7550>,\n",
       " <rdflib.plugins.sparql.processor.SPARQLResult at 0x116b13b10>,\n",
       " <rdflib.plugins.sparql.processor.SPARQLResult at 0x116b123d0>,\n",
       " <rdflib.plugins.sparql.processor.SPARQLResult at 0x11691a190>,\n",
       " <rdflib.plugins.sparql.processor.SPARQLResult at 0x116903210>,\n",
       " <rdflib.plugins.sparql.processor.SPARQLResult at 0x1169184d0>]"
      ]
     },
     "execution_count": 234,
     "metadata": {},
     "output_type": "execute_result"
    }
   ],
   "source": [
    "results"
   ]
  },
  {
   "cell_type": "code",
   "execution_count": 178,
   "metadata": {},
   "outputs": [],
   "source": [
    "query_typed = \"\"\"\n",
    "PREFIX s223: <http://data.ashrae.org/standard223#>\n",
    "PREFIX unit: <http://qudt.org/vocab/unit/>\n",
    "PREFIX quantitykind: <http://qudt.org/vocab/quantitykind/>\n",
    "PREFIX qudt: <http://qudt.org/schema/qudt/>\n",
    "PREFIX sh: <http://www.w3.org/ns/shacl#>\n",
    "PREFIX owl: <http://www.w3.org/2002/07/owl#>\n",
    "PREFIX rdf: <http://www.w3.org/1999/02/22-rdf-syntax-ns#>\n",
    "PREFIX rdfs: <http://www.w3.org/2000/01/rdf-schema#>\n",
    "PREFIX g36: <http://data.ashrae.org/standard223/1.0/extensions/g36#>\n",
    "\n",
    "SELECT *\n",
    "WHERE {\n",
    "  ?node ( (sh:or|sh:and)/rdf:rest*/rdf:first | sh:property | sh:node | sh:qualifiedValueShape ) ?object .\n",
    "  FILTER(?node = <http://data.ashrae.org/standard223/1.0/extensions/g36#ElectricHeatingCoil>) \n",
    "}\n",
    "\"\"\""
   ]
  },
  {
   "cell_type": "code",
   "execution_count": 239,
   "metadata": {},
   "outputs": [
    {
     "name": "stdout",
     "output_type": "stream",
     "text": [
      "(rdflib.term.URIRef('http://data.ashrae.org/standard223/1.0/extensions/g36#ElectricHeatingCoil'), rdflib.term.URIRef('https://rdflib.github.io/.well-known/genid/rdflib/nde5f9027b5594f6cb3ce243df260dfecb41'))\n"
     ]
    }
   ],
   "source": [
    "res =  g.query(query_typed)\n",
    "for r in res:\n",
    "    print(r)"
   ]
  },
  {
   "cell_type": "code",
   "execution_count": 240,
   "metadata": {},
   "outputs": [
    {
     "name": "stdout",
     "output_type": "stream",
     "text": [
      "[{rdflib.term.Variable('node'): rdflib.term.URIRef('http://data.ashrae.org/standard223/1.0/extensions/g36#ElectricHeatingCoil'), rdflib.term.Variable('object'): rdflib.term.URIRef('https://rdflib.github.io/.well-known/genid/rdflib/nde5f9027b5594f6cb3ce243df260dfecb41')}]\n"
     ]
    }
   ],
   "source": [
    "print(res._bindings)"
   ]
  },
  {
   "cell_type": "code",
   "execution_count": 237,
   "metadata": {},
   "outputs": [
    {
     "name": "stdout",
     "output_type": "stream",
     "text": [
      "[]\n"
     ]
    }
   ],
   "source": [
    "res =  g.query(query)\n",
    "print(res._bindings)"
   ]
  },
  {
   "cell_type": "code",
   "execution_count": 236,
   "metadata": {},
   "outputs": [
    {
     "data": {
      "text/plain": [
       "[rdflib.term.Variable('node'),\n",
       " rdflib.term.Variable('next_node'),\n",
       " rdflib.term.Variable('path'),\n",
       " rdflib.term.Variable('class'),\n",
       " rdflib.term.Variable('hasValue')]"
      ]
     },
     "execution_count": 236,
     "metadata": {},
     "output_type": "execute_result"
    }
   ],
   "source": [
    "res.vars"
   ]
  },
  {
   "cell_type": "code",
   "execution_count": 160,
   "metadata": {},
   "outputs": [],
   "source": [
    "i = 0\n",
    "for res in results:\n",
    "    for r in res._bindings:\n",
    "        if r.get('class'):\n",
    "            query += '\\t'\n",
    "            query += f\"?n{i} a {r.get('class')} .\"\n",
    "            query += '\\n'\n",
    "        if r.get('path'):\n",
    "            query += '\\t'\n",
    "            query += f\"?n{i} {r.get('path')} \"\n",
    "            if r.get('value'):\n",
    "                query+= f\"{r.get('value')} .\"\n",
    "            else:\n",
    "                query+= f\"?n{i+1} .\"\n",
    "            query += '\\n'\n",
    "        i += 1\n",
    "query += \"}\""
   ]
  },
  {
   "cell_type": "markdown",
   "metadata": {},
   "source": [
    "# Working on SPARQL Queries"
   ]
  },
  {
   "cell_type": "code",
   "execution_count": 117,
   "metadata": {},
   "outputs": [],
   "source": [
    "# getting necessary pieces of query\n",
    "query_prop_all = \"\"\"\n",
    "    PREFIX s223: <http://data.ashrae.org/standard223#>\n",
    "    PREFIX unit: <http://qudt.org/vocab/unit/>\n",
    "    PREFIX quantitykind: <http://qudt.org/vocab/quantitykind/>\n",
    "    PREFIX qudt: <http://qudt.org/schema/qudt/>\n",
    "    PREFIX sh: <http://www.w3.org/ns/shacl#>\n",
    "    PREFIX owl: <http://www.w3.org/2002/07/owl#>\n",
    "    PREFIX rdf: <http://www.w3.org/1999/02/22-rdf-syntax-ns#>\n",
    "    PREFIX rdfs: <http://www.w3.org/2000/01/rdf-schema#>\n",
    "    PREFIX g36: <http://data.ashrae.org/standard223/1.0/extensions/g36#>\n",
    "\n",
    "    SELECT ?object ?class ?path ?hasValue\n",
    "    WHERE {\n",
    "        OPTIONAL {?node (sh:or|sh:and)/rdf:rest*/rdf:first | sh:property ?object.}\n",
    "        FILTER (?node = <%s>) .\n",
    "        OPTIONAL {?node sh:path ?path .}\n",
    "        OPTIONAL {?node sh:class ?class .} \n",
    "        OPTIONAL {?node sh:hasValue ?hasValue .} \n",
    "\n",
    "    }\n",
    "    \"\"\"\n",
    "query_node_all = \"\"\"\n",
    "    PREFIX s223: <http://data.ashrae.org/standard223#>\n",
    "    PREFIX unit: <http://qudt.org/vocab/unit/>\n",
    "    PREFIX quantitykind: <http://qudt.org/vocab/quantitykind/>\n",
    "    PREFIX qudt: <http://qudt.org/schema/qudt/>\n",
    "    PREFIX sh: <http://www.w3.org/ns/shacl#>\n",
    "    PREFIX owl: <http://www.w3.org/2002/07/owl#>\n",
    "    PREFIX rdf: <http://www.w3.org/1999/02/22-rdf-syntax-ns#>\n",
    "    PREFIX rdfs: <http://www.w3.org/2000/01/rdf-schema#>\n",
    "    PREFIX g36: <http://data.ashrae.org/standard223/1.0/extensions/g36#>\n",
    "\n",
    "    SELECT ?object ?path ?class ?hasValue\n",
    "    WHERE {\n",
    "        OPTIONAL {?node (sh:or|sh:and)/rdf:rest*/rdf:first | sh:node | sh:qualifiedValueShape ?object.}\n",
    "        FILTER (?node = <%s>) .\n",
    "        OPTIONAL {?node sh:path ?path .} \n",
    "        OPTIONAL {?node sh:class ?class .}\n",
    "        OPTIONAL {?node sh:hasValue ?hasValue .}  \n",
    "\n",
    "    }\n",
    "    \"\"\""
   ]
  },
  {
   "cell_type": "code",
   "execution_count": 118,
   "metadata": {},
   "outputs": [],
   "source": [
    "# not sure why below aren't working\n",
    "# optional seems to work strangely\n",
    "# getting necessary pieces of query\n",
    "query_node_inexplicably_working = \"\"\"\n",
    "    PREFIX s223: <http://data.ashrae.org/standard223#>\n",
    "    PREFIX unit: <http://qudt.org/vocab/unit/>\n",
    "    PREFIX quantitykind: <http://qudt.org/vocab/quantitykind/>\n",
    "    PREFIX qudt: <http://qudt.org/schema/qudt/>\n",
    "    PREFIX sh: <http://www.w3.org/ns/shacl#>\n",
    "    PREFIX owl: <http://www.w3.org/2002/07/owl#>\n",
    "    PREFIX rdf: <http://www.w3.org/1999/02/22-rdf-syntax-ns#>\n",
    "    PREFIX rdfs: <http://www.w3.org/2000/01/rdf-schema#>\n",
    "    PREFIX g36: <http://data.ashrae.org/standard223/1.0/extensions/g36#>\n",
    "\n",
    "    SELECT ?object ?path ?class ?hasValue\n",
    "    WHERE {\n",
    "        FILTER (?node = <%s>) \n",
    "        OPTIONAL {?node sh:path ?path } \n",
    "        OPTIONAL {?node sh:class ?class }\n",
    "        OPTIONAL {?node sh:hasValue ?hasValue } \n",
    "        OPTIONAL {?node (sh:or|sh:and)/rdf:rest*/rdf:first | sh:node | sh:qualifiedValueShape ?object } \n",
    "    }\n",
    "    \"\"\""
   ]
  },
  {
   "cell_type": "code",
   "execution_count": 119,
   "metadata": {},
   "outputs": [],
   "source": [
    "subsequent_query = \"\"\"\n",
    "    PREFIX s223: <http://data.ashrae.org/standard223#>\n",
    "    PREFIX unit: <http://qudt.org/vocab/unit/>\n",
    "    PREFIX quantitykind: <http://qudt.org/vocab/quantitykind/>\n",
    "    PREFIX qudt: <http://qudt.org/schema/qudt/>\n",
    "    PREFIX sh: <http://www.w3.org/ns/shacl#>\n",
    "    PREFIX owl: <http://www.w3.org/2002/07/owl#>\n",
    "    PREFIX rdf: <http://www.w3.org/1999/02/22-rdf-syntax-ns#>\n",
    "    PREFIX rdfs: <http://www.w3.org/2000/01/rdf-schema#>\n",
    "    PREFIX g36: <http://data.ashrae.org/standard223/1.0/extensions/g36#>\n",
    "\n",
    "    SELECT * WHERE {\n",
    "        ?node rdfs:subClassOf ?what .\n",
    "        OPTIONAL {?node sh:hasValue ?hasValue .}\n",
    "        OPTIONAL {?node sh:class ?class .}\n",
    "        OPTIONAL {?node sh:path ?path .}\n",
    "        ?node sh:node*/sh:property ?next_node .\n",
    "        FILTER(?node = <%s>) .\n",
    "    }\n",
    "\"\"\""
   ]
  },
  {
   "cell_type": "code",
   "execution_count": 120,
   "metadata": {},
   "outputs": [],
   "source": [
    "g = Graph()\n",
    "g.parse('G36_SP223-v1.0.ttl', format = 'ttl')\n",
    "g = g.skolemize()"
   ]
  },
  {
   "cell_type": "code",
   "execution_count": 121,
   "metadata": {},
   "outputs": [
    {
     "name": "stdout",
     "output_type": "stream",
     "text": [
      "[{rdflib.term.Variable('object'): rdflib.term.URIRef('https://rdflib.github.io/.well-known/genid/rdflib/n3f9e2f5e271246e39102ebc895224851b41'), rdflib.term.Variable('class'): rdflib.term.URIRef('http://data.ashrae.org/standard223#ResistanceHeater')}]\n",
      "[{rdflib.term.Variable('object'): rdflib.term.URIRef('https://rdflib.github.io/.well-known/genid/rdflib/n3f9e2f5e271246e39102ebc895224851b42'), rdflib.term.Variable('path'): rdflib.term.URIRef('http://data.ashrae.org/standard223#hasProperty')}]\n",
      "1 list index out of range\n",
      "[{rdflib.term.Variable('object'): rdflib.term.URIRef('https://rdflib.github.io/.well-known/genid/rdflib/n3f9e2f5e271246e39102ebc895224851b43'), rdflib.term.Variable('class'): rdflib.term.URIRef('http://data.ashrae.org/standard223#QuantifiableActuatableProperty')}]\n",
      "[{rdflib.term.Variable('object'): rdflib.term.URIRef('https://rdflib.github.io/.well-known/genid/rdflib/n3f9e2f5e271246e39102ebc895224851b44')}]\n",
      "[]\n",
      "2 list index out of range\n",
      "3 list index out of range\n",
      "[]\n",
      "3 list index out of range\n",
      "4 list index out of range\n",
      "[]\n",
      "4 list index out of range\n",
      "5 list index out of range\n",
      "[]\n",
      "5 list index out of range\n",
      "6 list index out of range\n",
      "[]\n",
      "6 list index out of range\n",
      "7 list index out of range\n",
      "[]\n",
      "7 list index out of range\n",
      "8 list index out of range\n",
      "[]\n",
      "8 list index out of range\n",
      "9 list index out of range\n",
      "[]\n",
      "9 list index out of range\n"
     ]
    }
   ],
   "source": [
    "results = []\n",
    "next_node = 'http://data.ashrae.org/standard223/1.0/extensions/g36#ElectricHeatingCoil'\n",
    "for i in range(0,10):\n",
    "    try:\n",
    "        res = g.query(query_prop_all % next_node)\n",
    "        res.serialize('res.csv',format = 'csv')\n",
    "        next_node = res._bindings[0]['object']\n",
    "        print(res._bindings)\n",
    "        results.append(res)\n",
    "    except Exception as e:\n",
    "        print(i, e)\n",
    "    try:\n",
    "        res = g.query(query_node_all % next_node)\n",
    "        res.serialize('res.csv',format = 'csv')\n",
    "        print(res._bindings)\n",
    "        next_node = res._bindings[0]['object']\n",
    "        results.append(res)\n",
    "    except Exception as e:\n",
    "        print(i, e)\n",
    "        \n"
   ]
  },
  {
   "cell_type": "code",
   "execution_count": 93,
   "metadata": {},
   "outputs": [
    {
     "name": "stdout",
     "output_type": "stream",
     "text": [
      "[{rdflib.term.Variable('object'): rdflib.term.URIRef('https://rdflib.github.io/.well-known/genid/rdflib/n1542809021084e79836531bd5bde9897b41'), rdflib.term.Variable('class'): rdflib.term.URIRef('http://data.ashrae.org/standard223#ResistanceHeater')}]\n",
      "[{rdflib.term.Variable('object'): rdflib.term.URIRef('https://rdflib.github.io/.well-known/genid/rdflib/n1542809021084e79836531bd5bde9897b42'), rdflib.term.Variable('path'): rdflib.term.URIRef('http://data.ashrae.org/standard223#hasProperty')}]\n",
      "1 list index out of range\n",
      "[{rdflib.term.Variable('object'): rdflib.term.URIRef('https://rdflib.github.io/.well-known/genid/rdflib/n1542809021084e79836531bd5bde9897b43'), rdflib.term.Variable('class'): rdflib.term.URIRef('http://data.ashrae.org/standard223#QuantifiableActuatableProperty')}]\n",
      "[{rdflib.term.Variable('object'): rdflib.term.URIRef('https://rdflib.github.io/.well-known/genid/rdflib/n1542809021084e79836531bd5bde9897b44')}]\n",
      "[]\n",
      "2 list index out of range\n",
      "3 list index out of range\n",
      "[]\n",
      "3 list index out of range\n",
      "4 list index out of range\n",
      "[]\n",
      "4 list index out of range\n",
      "5 list index out of range\n",
      "[]\n",
      "5 list index out of range\n",
      "6 list index out of range\n",
      "[]\n",
      "6 list index out of range\n",
      "7 list index out of range\n",
      "[]\n",
      "7 list index out of range\n",
      "8 list index out of range\n",
      "[]\n",
      "8 list index out of range\n",
      "9 list index out of range\n",
      "[]\n",
      "9 list index out of range\n"
     ]
    }
   ],
   "source": [
    "results = []\n",
    "node_1 = []\n",
    "node_2 = []\n",
    "next_node = 'http://data.ashrae.org/standard223/1.0/extensions/g36#ElectricHeatingCoil'\n",
    "for i in range(0,10):\n",
    "    try:\n",
    "        res = g.query(query_prop_all % next_node)\n",
    "        res.serialize('res.csv',format = 'csv')\n",
    "        next_node_1 = res._bindings[0]['object']\n",
    "        next_node = next_node_1\n",
    "        print(res._bindings)\n",
    "        results.append(res)\n",
    "    except Exception as e:\n",
    "        print(i, e)\n",
    "    try:\n",
    "        res = g.query(query_node_all % next_node)\n",
    "        res.serialize('res.csv',format = 'csv')\n",
    "        print(res._bindings)\n",
    "        next_node_2 = res._bindings[0]['object']\n",
    "        next_node = next_node_2\n",
    "        results.append(res)\n",
    "    except Exception as e:\n",
    "        print(i, e)\n",
    "    node_1.append(next_node_1)\n",
    "    node_2.append(next_node_2)\n",
    "    "
   ]
  },
  {
   "cell_type": "code",
   "execution_count": 100,
   "metadata": {},
   "outputs": [
    {
     "data": {
      "text/plain": [
       "[rdflib.term.URIRef('https://rdflib.github.io/.well-known/genid/rdflib/n1542809021084e79836531bd5bde9897b41'),\n",
       " rdflib.term.URIRef('https://rdflib.github.io/.well-known/genid/rdflib/n1542809021084e79836531bd5bde9897b41'),\n",
       " rdflib.term.URIRef('https://rdflib.github.io/.well-known/genid/rdflib/n1542809021084e79836531bd5bde9897b44'),\n",
       " rdflib.term.URIRef('https://rdflib.github.io/.well-known/genid/rdflib/n1542809021084e79836531bd5bde9897b44'),\n",
       " rdflib.term.URIRef('https://rdflib.github.io/.well-known/genid/rdflib/n1542809021084e79836531bd5bde9897b44'),\n",
       " rdflib.term.URIRef('https://rdflib.github.io/.well-known/genid/rdflib/n1542809021084e79836531bd5bde9897b44'),\n",
       " rdflib.term.URIRef('https://rdflib.github.io/.well-known/genid/rdflib/n1542809021084e79836531bd5bde9897b44'),\n",
       " rdflib.term.URIRef('https://rdflib.github.io/.well-known/genid/rdflib/n1542809021084e79836531bd5bde9897b44'),\n",
       " rdflib.term.URIRef('https://rdflib.github.io/.well-known/genid/rdflib/n1542809021084e79836531bd5bde9897b44'),\n",
       " rdflib.term.URIRef('https://rdflib.github.io/.well-known/genid/rdflib/n1542809021084e79836531bd5bde9897b44')]"
      ]
     },
     "execution_count": 100,
     "metadata": {},
     "output_type": "execute_result"
    }
   ],
   "source": [
    "node_1"
   ]
  },
  {
   "cell_type": "code",
   "execution_count": 130,
   "metadata": {},
   "outputs": [],
   "source": [
    "results = []\n",
    "next_node = 'http://data.ashrae.org/standard223/1.0/extensions/g36#ElectricHeatingCoil'\n",
    "for i in range(0,10):\n",
    "    \n",
    "    res = g.query(query_prop_all % next_node)\n",
    "    if len(res._bindings) > 0:\n",
    "        results.append(res)\n",
    "        print(res._bindings)\n",
    "        try:\n",
    "            next_node = res._bindings[0]['object']\n",
    "        except Exception as e:\n",
    "            print(i, e)\n",
    "\n",
    "    else:\n",
    "        res = g.query(query_node_all % next_node)\n",
    "        if len(res._bindings) > 0:\n",
    "            results.append(res)\n",
    "            print(res._bindings)\n",
    "            try:\n",
    "                next_node = res._bindings[0]['object']\n",
    "            except Exception as e:\n",
    "                print(i, e)\n",
    "        else:\n",
    "            res = g.query(query_node_inexplicably_working % next_node)\n",
    "            if len(res._bindings) > 0:\n",
    "                results.append(res)\n",
    "                print(res._bindings)\n",
    "                try:\n",
    "                    next_node = res._bindings[0]['object']\n",
    "                except Exception as e:\n",
    "                    print(i, e)\n"
   ]
  },
  {
   "cell_type": "code",
   "execution_count": 131,
   "metadata": {},
   "outputs": [
    {
     "data": {
      "text/plain": [
       "<Graph identifier=N2e71a1984ccc403c94038db79348b5b9 (<class 'rdflib.graph.Graph'>)>"
      ]
     },
     "execution_count": 131,
     "metadata": {},
     "output_type": "execute_result"
    }
   ],
   "source": [
    "g.serialize('res.ttl', format = 'ttl')"
   ]
  },
  {
   "cell_type": "code",
   "execution_count": 132,
   "metadata": {},
   "outputs": [],
   "source": [
    "for i, res in enumerate(results):\n",
    "    for j, r in enumerate(res._bindings):\n",
    "        print(i,j,r)"
   ]
  },
  {
   "cell_type": "code",
   "execution_count": 75,
   "metadata": {},
   "outputs": [],
   "source": [
    "query = \"\"\"\n",
    "PREFIX s223: <http://data.ashrae.org/standard223#>\n",
    "PREFIX unit: <http://qudt.org/vocab/unit/>\n",
    "PREFIX quantitykind: <http://qudt.org/vocab/quantitykind/>\n",
    "PREFIX qudt: <http://qudt.org/schema/qudt/>\n",
    "PREFIX sh: <http://www.w3.org/ns/shacl#>\n",
    "PREFIX owl: <http://www.w3.org/2002/07/owl#>\n",
    "PREFIX rdf: <http://www.w3.org/1999/02/22-rdf-syntax-ns#>\n",
    "PREFIX rdfs: <http://www.w3.org/2000/01/rdf-schema#>\n",
    "PREFIX g36: <http://data.ashrae.org/standard223/1.0/extensions/g36#>\n",
    "\n",
    "SELECT ?object ?path ?class\n",
    "    WHERE {\n",
    "\"\"\"\n",
    "i = 0\n",
    "for res in results:\n",
    "    for r in res._bindings:\n",
    "        if r.get('class'):\n",
    "            query += '\\t'\n",
    "            query += f\"?n{i} a {r.get('class')} .\"\n",
    "            query += '\\n'\n",
    "        if r.get('path'):\n",
    "            query += '\\t'\n",
    "            query += f\"?n{i} {r.get('path')} \"\n",
    "            if r.get('value'):\n",
    "                query+= f\"{r.get('value')} .\"\n",
    "            else:\n",
    "                query+= f\"?n{i+1} .\"\n",
    "            query += '\\n'\n",
    "        i += 1\n",
    "query += \"}\""
   ]
  },
  {
   "cell_type": "code",
   "execution_count": 77,
   "metadata": {},
   "outputs": [
    {
     "name": "stdout",
     "output_type": "stream",
     "text": [
      "\n",
      "PREFIX s223: <http://data.ashrae.org/standard223#>\n",
      "PREFIX unit: <http://qudt.org/vocab/unit/>\n",
      "PREFIX quantitykind: <http://qudt.org/vocab/quantitykind/>\n",
      "PREFIX qudt: <http://qudt.org/schema/qudt/>\n",
      "PREFIX sh: <http://www.w3.org/ns/shacl#>\n",
      "PREFIX owl: <http://www.w3.org/2002/07/owl#>\n",
      "PREFIX rdf: <http://www.w3.org/1999/02/22-rdf-syntax-ns#>\n",
      "PREFIX rdfs: <http://www.w3.org/2000/01/rdf-schema#>\n",
      "PREFIX g36: <http://data.ashrae.org/standard223/1.0/extensions/g36#>\n",
      "\n",
      "SELECT ?object ?path ?class\n",
      "    WHERE {\n",
      "}\n"
     ]
    }
   ],
   "source": [
    "print(query)"
   ]
  },
  {
   "cell_type": "code",
   "execution_count": 55,
   "metadata": {},
   "outputs": [],
   "source": [
    "# THIS QUERY IS working as expected on the final nested node???\n",
    "query_node_all = \"\"\"\n",
    "    PREFIX s223: <http://data.ashrae.org/standard223#>\n",
    "    PREFIX unit: <http://qudt.org/vocab/unit/>\n",
    "    PREFIX quantitykind: <http://qudt.org/vocab/quantitykind/>\n",
    "    PREFIX qudt: <http://qudt.org/schema/qudt/>\n",
    "    PREFIX sh: <http://www.w3.org/ns/shacl#>\n",
    "    PREFIX owl: <http://www.w3.org/2002/07/owl#>\n",
    "    PREFIX rdf: <http://www.w3.org/1999/02/22-rdf-syntax-ns#>\n",
    "    PREFIX rdfs: <http://www.w3.org/2000/01/rdf-schema#>\n",
    "    PREFIX g36: <http://data.ashrae.org/standard223/1.0/extensions/g36#>\n",
    "\n",
    "    SELECT *\n",
    "    WHERE {\n",
    "        FILTER (?node = <%s>) \n",
    "        OPTIONAL {?node sh:path ?path } \n",
    "        OPTIONAL {?node sh:class ?class }\n",
    "        OPTIONAL {?node sh:hasValue ?hasValue } \n",
    "        OPTIONAL {?node (sh:or|sh:and)/rdf:rest*/rdf:first | sh:node | sh:qualifiedValueShape ?object } \n",
    "    }\n",
    "    \"\"\"\n",
    "res = g.query(query_node_all % 'https://rdflib.github.io/.well-known/genid/rdflib/n1542809021084e79836531bd5bde9897b44')\n",
    "res.serialize('res.csv',format = 'csv')"
   ]
  },
  {
   "cell_type": "code",
   "execution_count": 68,
   "metadata": {},
   "outputs": [],
   "source": [
    "query_prop_all = \"\"\"\n",
    "    PREFIX s223: <http://data.ashrae.org/standard223#>\n",
    "    PREFIX unit: <http://qudt.org/vocab/unit/>\n",
    "    PREFIX quantitykind: <http://qudt.org/vocab/quantitykind/>\n",
    "    PREFIX qudt: <http://qudt.org/schema/qudt/>\n",
    "    PREFIX sh: <http://www.w3.org/ns/shacl#>\n",
    "    PREFIX owl: <http://www.w3.org/2002/07/owl#>\n",
    "    PREFIX rdf: <http://www.w3.org/1999/02/22-rdf-syntax-ns#>\n",
    "    PREFIX rdfs: <http://www.w3.org/2000/01/rdf-schema#>\n",
    "    PREFIX g36: <http://data.ashrae.org/standard223/1.0/extensions/g36#>\n",
    "\n",
    "    SELECT ?object ?class ?path ?hasValue\n",
    "    WHERE {\n",
    "        OPTIONAL {?node (sh:or|sh:and)/rdf:rest*/rdf:first | sh:property ?object.}\n",
    "        FILTER (?node = <%s>) .\n",
    "        OPTIONAL {?node sh:path ?path .}\n",
    "        OPTIONAL {?node sh:class ?class .} \n",
    "        OPTIONAL {?node sh:hasValue ?hasValue .} \n",
    "\n",
    "    }\n",
    "    \"\"\"\n",
    "res = g.query(query_prop_all % 'https://rdflib.github.io/.well-known/genid/rdflib/n1542809021084e79836531bd5bde9897b43')\n",
    "res.serialize('res.csv',format = 'csv')"
   ]
  },
  {
   "cell_type": "code",
   "execution_count": 138,
   "metadata": {},
   "outputs": [],
   "source": [
    "# MORE TARGETTED\n",
    "# getting necessary pieces of query\n",
    "query_prop_all = \"\"\"\n",
    "    PREFIX s223: <http://data.ashrae.org/standard223#>\n",
    "    PREFIX unit: <http://qudt.org/vocab/unit/>\n",
    "    PREFIX quantitykind: <http://qudt.org/vocab/quantitykind/>\n",
    "    PREFIX qudt: <http://qudt.org/schema/qudt/>\n",
    "    PREFIX sh: <http://www.w3.org/ns/shacl#>\n",
    "    PREFIX owl: <http://www.w3.org/2002/07/owl#>\n",
    "    PREFIX rdf: <http://www.w3.org/1999/02/22-rdf-syntax-ns#>\n",
    "    PREFIX rdfs: <http://www.w3.org/2000/01/rdf-schema#>\n",
    "    PREFIX g36: <http://data.ashrae.org/standard223/1.0/extensions/g36#>\n",
    "\n",
    "    SELECT ?object ?class ?path ?hasValue\n",
    "    WHERE {\n",
    "        OPTIONAL {?node sh:property ?object.}\n",
    "        FILTER (?node = <%s>) .\n",
    "        OPTIONAL {?node sh:path ?path .}\n",
    "        OPTIONAL {?node sh:class ?class .} \n",
    "        OPTIONAL {?node sh:hasValue ?hasValue .} \n",
    "\n",
    "    }\n",
    "    \"\"\"\n",
    "query_node_all = \"\"\"\n",
    "    PREFIX s223: <http://data.ashrae.org/standard223#>\n",
    "    PREFIX unit: <http://qudt.org/vocab/unit/>\n",
    "    PREFIX quantitykind: <http://qudt.org/vocab/quantitykind/>\n",
    "    PREFIX qudt: <http://qudt.org/schema/qudt/>\n",
    "    PREFIX sh: <http://www.w3.org/ns/shacl#>\n",
    "    PREFIX owl: <http://www.w3.org/2002/07/owl#>\n",
    "    PREFIX rdf: <http://www.w3.org/1999/02/22-rdf-syntax-ns#>\n",
    "    PREFIX rdfs: <http://www.w3.org/2000/01/rdf-schema#>\n",
    "    PREFIX g36: <http://data.ashrae.org/standard223/1.0/extensions/g36#>\n",
    "\n",
    "    SELECT ?object ?path ?class ?hasValue\n",
    "    WHERE {\n",
    "        OPTIONAL {?node sh:node ?object.}\n",
    "        FILTER (?node = <%s>) .\n",
    "        OPTIONAL {?node sh:path ?path .} \n",
    "        OPTIONAL {?node sh:class ?class .}\n",
    "        OPTIONAL {?node sh:hasValue ?hasValue .}  \n",
    "\n",
    "    }\n",
    "    \"\"\"\n",
    "query_qualified_all = \"\"\"\n",
    "    PREFIX s223: <http://data.ashrae.org/standard223#>\n",
    "    PREFIX unit: <http://qudt.org/vocab/unit/>\n",
    "    PREFIX quantitykind: <http://qudt.org/vocab/quantitykind/>\n",
    "    PREFIX qudt: <http://qudt.org/schema/qudt/>\n",
    "    PREFIX sh: <http://www.w3.org/ns/shacl#>\n",
    "    PREFIX owl: <http://www.w3.org/2002/07/owl#>\n",
    "    PREFIX rdf: <http://www.w3.org/1999/02/22-rdf-syntax-ns#>\n",
    "    PREFIX rdfs: <http://www.w3.org/2000/01/rdf-schema#>\n",
    "    PREFIX g36: <http://data.ashrae.org/standard223/1.0/extensions/g36#>\n",
    "\n",
    "    SELECT ?object ?path ?class ?hasValue\n",
    "    WHERE {\n",
    "        OPTIONAL {?node sh:qualifiedValueShape ?object.}\n",
    "        FILTER (?node = <%s>) .\n",
    "        OPTIONAL {?node sh:path ?path .} \n",
    "        OPTIONAL {?node sh:class ?class .}\n",
    "        OPTIONAL {?node sh:hasValue ?hasValue .}  \n",
    "\n",
    "    }\n",
    "    \"\"\""
   ]
  },
  {
   "cell_type": "code",
   "execution_count": 139,
   "metadata": {},
   "outputs": [
    {
     "name": "stdout",
     "output_type": "stream",
     "text": [
      "[{rdflib.term.Variable('object'): rdflib.term.URIRef('https://rdflib.github.io/.well-known/genid/rdflib/n3f9e2f5e271246e39102ebc895224851b41'), rdflib.term.Variable('class'): rdflib.term.URIRef('http://data.ashrae.org/standard223#ResistanceHeater')}]\n",
      "[]\n",
      "[{rdflib.term.Variable('path'): rdflib.term.URIRef('http://data.ashrae.org/standard223#hasProperty'), rdflib.term.Variable('object'): rdflib.term.URIRef('https://rdflib.github.io/.well-known/genid/rdflib/n3f9e2f5e271246e39102ebc895224851b42')}]\n",
      "https://rdflib.github.io/.well-known/genid/rdflib/n3f9e2f5e271246e39102ebc895224851b41 0 https://rdflib.github.io/.well-known/genid/rdflib/n3f9e2f5e271246e39102ebc895224851b42\n",
      "[{rdflib.term.Variable('object'): rdflib.term.URIRef('https://rdflib.github.io/.well-known/genid/rdflib/n3f9e2f5e271246e39102ebc895224851b43'), rdflib.term.Variable('class'): rdflib.term.URIRef('http://data.ashrae.org/standard223#QuantifiableActuatableProperty')}]\n",
      "[]\n",
      "https://rdflib.github.io/.well-known/genid/rdflib/n3f9e2f5e271246e39102ebc895224851b41 https://rdflib.github.io/.well-known/genid/rdflib/n3f9e2f5e271246e39102ebc895224851b43 https://rdflib.github.io/.well-known/genid/rdflib/n3f9e2f5e271246e39102ebc895224851b42\n",
      "[{rdflib.term.Variable('object'): rdflib.term.URIRef('https://rdflib.github.io/.well-known/genid/rdflib/n3f9e2f5e271246e39102ebc895224851b44')}]\n",
      "[]\n",
      "[{rdflib.term.Variable('path'): rdflib.term.URIRef('http://qudt.org/schema/qudt/hasQuantityKind'), rdflib.term.Variable('hasValue'): rdflib.term.URIRef('http://qudt.org/vocab/quantitykind/DimensionlessRatio')}]\n",
      "https://rdflib.github.io/.well-known/genid/rdflib/n3f9e2f5e271246e39102ebc895224851b44 https://rdflib.github.io/.well-known/genid/rdflib/n3f9e2f5e271246e39102ebc895224851b43 https://rdflib.github.io/.well-known/genid/rdflib/n3f9e2f5e271246e39102ebc895224851b42\n",
      "[]\n",
      "[{rdflib.term.Variable('path'): rdflib.term.URIRef('http://qudt.org/schema/qudt/hasQuantityKind'), rdflib.term.Variable('hasValue'): rdflib.term.URIRef('http://qudt.org/vocab/quantitykind/DimensionlessRatio')}]\n",
      "https://rdflib.github.io/.well-known/genid/rdflib/n3f9e2f5e271246e39102ebc895224851b44 https://rdflib.github.io/.well-known/genid/rdflib/n3f9e2f5e271246e39102ebc895224851b43 https://rdflib.github.io/.well-known/genid/rdflib/n3f9e2f5e271246e39102ebc895224851b42\n",
      "[]\n",
      "[{rdflib.term.Variable('path'): rdflib.term.URIRef('http://qudt.org/schema/qudt/hasQuantityKind'), rdflib.term.Variable('hasValue'): rdflib.term.URIRef('http://qudt.org/vocab/quantitykind/DimensionlessRatio')}]\n",
      "https://rdflib.github.io/.well-known/genid/rdflib/n3f9e2f5e271246e39102ebc895224851b44 https://rdflib.github.io/.well-known/genid/rdflib/n3f9e2f5e271246e39102ebc895224851b43 https://rdflib.github.io/.well-known/genid/rdflib/n3f9e2f5e271246e39102ebc895224851b42\n",
      "[]\n",
      "[{rdflib.term.Variable('path'): rdflib.term.URIRef('http://qudt.org/schema/qudt/hasQuantityKind'), rdflib.term.Variable('hasValue'): rdflib.term.URIRef('http://qudt.org/vocab/quantitykind/DimensionlessRatio')}]\n",
      "https://rdflib.github.io/.well-known/genid/rdflib/n3f9e2f5e271246e39102ebc895224851b44 https://rdflib.github.io/.well-known/genid/rdflib/n3f9e2f5e271246e39102ebc895224851b43 https://rdflib.github.io/.well-known/genid/rdflib/n3f9e2f5e271246e39102ebc895224851b42\n",
      "[]\n",
      "[{rdflib.term.Variable('path'): rdflib.term.URIRef('http://qudt.org/schema/qudt/hasQuantityKind'), rdflib.term.Variable('hasValue'): rdflib.term.URIRef('http://qudt.org/vocab/quantitykind/DimensionlessRatio')}]\n",
      "https://rdflib.github.io/.well-known/genid/rdflib/n3f9e2f5e271246e39102ebc895224851b44 https://rdflib.github.io/.well-known/genid/rdflib/n3f9e2f5e271246e39102ebc895224851b43 https://rdflib.github.io/.well-known/genid/rdflib/n3f9e2f5e271246e39102ebc895224851b42\n",
      "[]\n",
      "[{rdflib.term.Variable('path'): rdflib.term.URIRef('http://qudt.org/schema/qudt/hasQuantityKind'), rdflib.term.Variable('hasValue'): rdflib.term.URIRef('http://qudt.org/vocab/quantitykind/DimensionlessRatio')}]\n",
      "https://rdflib.github.io/.well-known/genid/rdflib/n3f9e2f5e271246e39102ebc895224851b44 https://rdflib.github.io/.well-known/genid/rdflib/n3f9e2f5e271246e39102ebc895224851b43 https://rdflib.github.io/.well-known/genid/rdflib/n3f9e2f5e271246e39102ebc895224851b42\n",
      "[]\n",
      "[{rdflib.term.Variable('path'): rdflib.term.URIRef('http://qudt.org/schema/qudt/hasQuantityKind'), rdflib.term.Variable('hasValue'): rdflib.term.URIRef('http://qudt.org/vocab/quantitykind/DimensionlessRatio')}]\n",
      "https://rdflib.github.io/.well-known/genid/rdflib/n3f9e2f5e271246e39102ebc895224851b44 https://rdflib.github.io/.well-known/genid/rdflib/n3f9e2f5e271246e39102ebc895224851b43 https://rdflib.github.io/.well-known/genid/rdflib/n3f9e2f5e271246e39102ebc895224851b42\n",
      "[]\n",
      "[{rdflib.term.Variable('path'): rdflib.term.URIRef('http://qudt.org/schema/qudt/hasQuantityKind'), rdflib.term.Variable('hasValue'): rdflib.term.URIRef('http://qudt.org/vocab/quantitykind/DimensionlessRatio')}]\n",
      "https://rdflib.github.io/.well-known/genid/rdflib/n3f9e2f5e271246e39102ebc895224851b44 https://rdflib.github.io/.well-known/genid/rdflib/n3f9e2f5e271246e39102ebc895224851b43 https://rdflib.github.io/.well-known/genid/rdflib/n3f9e2f5e271246e39102ebc895224851b42\n"
     ]
    }
   ],
   "source": [
    "results = []\n",
    "next_node = 'http://data.ashrae.org/standard223/1.0/extensions/g36#ElectricHeatingCoil'\n",
    "queries = [query_prop_all, query_node_all, query_node_inexplicably_working]\n",
    "results = []\n",
    "for i in queries: \n",
    "    for j in queries: \n",
    "        for k in queries: \n",
    "        res = g.query(k % next_node)\n",
    "        res.serialize('res.csv',format = 'csv')\n",
    "        print(res._bindings)\n",
    "        next_node = next_node3 = res._bindings[0]['object']\n",
    "        results.append(res)\n",
    "    except Exception as e:\n",
    "        pass\n",
    "    print(next_node1,next_node2, next_node3)"
   ]
  },
  {
   "cell_type": "code",
   "execution_count": 134,
   "metadata": {},
   "outputs": [
    {
     "data": {
      "text/plain": [
       "[<rdflib.plugins.sparql.processor.SPARQLResult at 0x115e8aa90>,\n",
       " <rdflib.plugins.sparql.processor.SPARQLResult at 0x11670df10>,\n",
       " <rdflib.plugins.sparql.processor.SPARQLResult at 0x115e26950>,\n",
       " <rdflib.plugins.sparql.processor.SPARQLResult at 0x115e57010>]"
      ]
     },
     "execution_count": 134,
     "metadata": {},
     "output_type": "execute_result"
    }
   ],
   "source": [
    "results"
   ]
  },
  {
   "cell_type": "code",
   "execution_count": 129,
   "metadata": {},
   "outputs": [],
   "source": [
    "next_node = 'https://rdflib.github.io/.well-known/genid/rdflib/n3f9e2f5e271246e39102ebc895224851b44'\n",
    "res = g.query(query_node_inexplicably_working % next_node)\n",
    "res.serialize('res.csv',format = 'csv')"
   ]
  },
  {
   "cell_type": "markdown",
   "metadata": {},
   "source": [
    "# Experimenting"
   ]
  },
  {
   "cell_type": "code",
   "execution_count": 340,
   "metadata": {},
   "outputs": [
    {
     "ename": "IndexError",
     "evalue": "list index out of range",
     "output_type": "error",
     "traceback": [
      "\u001b[0;31m---------------------------------------------------------------------------\u001b[0m",
      "\u001b[0;31mIndexError\u001b[0m                                Traceback (most recent call last)",
      "Cell \u001b[0;32mIn[340], line 4\u001b[0m\n\u001b[1;32m      2\u001b[0m res \u001b[39m=\u001b[39m g\u001b[39m.\u001b[39mquery(query_prop_all \u001b[39m%\u001b[39m \u001b[39m'\u001b[39m\u001b[39mhttp://data.ashrae.org/standard223/1.0/extensions/g36#ElectricHeatingCoil\u001b[39m\u001b[39m'\u001b[39m)\n\u001b[1;32m      3\u001b[0m results\u001b[39m.\u001b[39mappend(res)\n\u001b[0;32m----> 4\u001b[0m next_node \u001b[39m=\u001b[39m res\u001b[39m.\u001b[39;49m_bindings[\u001b[39m0\u001b[39;49m]\u001b[39m.\u001b[39mget(\u001b[39m'\u001b[39m\u001b[39mobject\u001b[39m\u001b[39m'\u001b[39m)\n\u001b[1;32m      5\u001b[0m \u001b[39mwhile\u001b[39;00m next_node:\n\u001b[1;32m      6\u001b[0m     res \u001b[39m=\u001b[39m g\u001b[39m.\u001b[39mquery(query_node_all \u001b[39m%\u001b[39m next_node)\n",
      "\u001b[0;31mIndexError\u001b[0m: list index out of range"
     ]
    }
   ],
   "source": [
    "results = []\n",
    "res = g.query(query_prop_all % 'http://data.ashrae.org/standard223/1.0/extensions/g36#ElectricHeatingCoil')\n",
    "results.append(res)\n",
    "next_node = res._bindings[0].get('object')\n",
    "while next_node:\n",
    "    res = g.query(query_node_all % next_node)\n",
    "    results.append(res)\n",
    "    try:\n",
    "        next_node = res._bindings[0].get('object')\n",
    "    except Exception as e:\n",
    "        print(e)\n",
    "        break"
   ]
  },
  {
   "cell_type": "code",
   "execution_count": 326,
   "metadata": {},
   "outputs": [
    {
     "data": {
      "text/plain": [
       "[<rdflib.plugins.sparql.processor.SPARQLResult at 0x136b45e50>]"
      ]
     },
     "execution_count": 326,
     "metadata": {},
     "output_type": "execute_result"
    }
   ],
   "source": [
    "results"
   ]
  },
  {
   "cell_type": "code",
   "execution_count": 319,
   "metadata": {},
   "outputs": [],
   "source": [
    "# g.query(query_prop_all % 'http://data.ashrae.org/standard223/1.0/extensions/g36#ElectricHeatingCoil').serialize('res.ttl', format = 'ttl')"
   ]
  },
  {
   "cell_type": "code",
   "execution_count": 347,
   "metadata": {},
   "outputs": [],
   "source": [
    "res = g.query(query_prop_all % 'http://data.ashrae.org/standard223/1.0/extensions/g36#ElectricHeatingCoil')\n",
    "res.serialize('res.csv', format = 'csv')"
   ]
  },
  {
   "cell_type": "code",
   "execution_count": 348,
   "metadata": {},
   "outputs": [],
   "source": [
    "res = g.query(query_prop_all % 'https://rdflib.github.io/.well-known/genid/rdflib/nb8ec4787aa3545268c6359dff05377a6b42')\n",
    "res.serialize('res.csv', format = 'csv')"
   ]
  },
  {
   "cell_type": "code",
   "execution_count": 321,
   "metadata": {},
   "outputs": [
    {
     "name": "stdout",
     "output_type": "stream",
     "text": [
      "\n",
      "    PREFIX s223: <http://data.ashrae.org/standard223#>\n",
      "    PREFIX unit: <http://qudt.org/vocab/unit/>\n",
      "    PREFIX quantitykind: <http://qudt.org/vocab/quantitykind/>\n",
      "    PREFIX qudt: <http://qudt.org/schema/qudt/>\n",
      "    PREFIX sh: <http://www.w3.org/ns/shacl#>\n",
      "    PREFIX owl: <http://www.w3.org/2002/07/owl#>\n",
      "    PREFIX rdf: <http://www.w3.org/1999/02/22-rdf-syntax-ns#>\n",
      "    PREFIX rdfs: <http://www.w3.org/2000/01/rdf-schema#>\n",
      "    PREFIX g36: <http://data.ashrae.org/standard223/1.0/extensions/g36#>\n",
      "\n",
      "    SELECT * WHERE {\n",
      "        ?node rdfs:subClassOf ?what .\n",
      "        OPTIONAL {?node sh:hasValue ?hasValue .}\n",
      "        OPTIONAL {?node sh:class ?class .}\n",
      "        OPTIONAL {?node sh:path ?path .}\n",
      "        ?node sh:node*/sh:property ?next_node .\n",
      "        FILTER(?node = <None>) .\n",
      "    }\n",
      "\n"
     ]
    }
   ],
   "source": [
    "next_node = res._bindings[0].get('next_node')\n",
    "print(query % next_node)\n",
    "res = g.query(query % next_node)\n",
    "res.serialize('res.csv', format = 'csv')"
   ]
  },
  {
   "cell_type": "code",
   "execution_count": 322,
   "metadata": {},
   "outputs": [
    {
     "ename": "IndexError",
     "evalue": "list index out of range",
     "output_type": "error",
     "traceback": [
      "\u001b[0;31m---------------------------------------------------------------------------\u001b[0m",
      "\u001b[0;31mIndexError\u001b[0m                                Traceback (most recent call last)",
      "Cell \u001b[0;32mIn[322], line 1\u001b[0m\n\u001b[0;32m----> 1\u001b[0m next_node \u001b[39m=\u001b[39m res\u001b[39m.\u001b[39;49m_bindings[\u001b[39m0\u001b[39;49m]\u001b[39m.\u001b[39mget(\u001b[39m'\u001b[39m\u001b[39mnext_node\u001b[39m\u001b[39m'\u001b[39m)\n\u001b[1;32m      2\u001b[0m \u001b[39mprint\u001b[39m(query \u001b[39m%\u001b[39m next_node)\n\u001b[1;32m      3\u001b[0m res \u001b[39m=\u001b[39m g\u001b[39m.\u001b[39mquery(query \u001b[39m%\u001b[39m next_node)\n",
      "\u001b[0;31mIndexError\u001b[0m: list index out of range"
     ]
    }
   ],
   "source": [
    "next_node = res._bindings[0].get('next_node')\n",
    "print(query % next_node)\n",
    "res = g.query(query % next_node)\n",
    "res.serialize('res.csv', format = 'csv')"
   ]
  },
  {
   "cell_type": "code",
   "execution_count": 323,
   "metadata": {},
   "outputs": [
    {
     "name": "stdout",
     "output_type": "stream",
     "text": [
      "list index out of range\n"
     ]
    }
   ],
   "source": [
    "results = []\n",
    "next_node = 'http://data.ashrae.org/standard223/1.0/extensions/g36#ElectricHeatingCoil'\n",
    "while next_node:\n",
    "    res = g.query(query % next_node)\n",
    "    results.append(res)\n",
    "    try:\n",
    "        next_node = res._bindings[0].get('next_node')\n",
    "    except Exception as e:\n",
    "        print(e)\n",
    "        break"
   ]
  },
  {
   "cell_type": "code",
   "execution_count": 324,
   "metadata": {},
   "outputs": [
    {
     "name": "stdout",
     "output_type": "stream",
     "text": [
      "(None, rdflib.term.URIRef('https://rdflib.github.io/.well-known/genid/rdflib/n6c513dd0cc6d4c3cb42007d2ef57a027b41'), None, rdflib.term.URIRef('http://data.ashrae.org/standard223/1.0/extensions/g36#ElectricHeatingCoil'), rdflib.term.URIRef('http://data.ashrae.org/standard223#ResistanceHeater'), rdflib.term.URIRef('http://data.ashrae.org/standard223#ResistanceHeater'))\n"
     ]
    }
   ],
   "source": [
    "for res in results:\n",
    "    for r in res:\n",
    "        print(r)"
   ]
  },
  {
   "cell_type": "code",
   "execution_count": null,
   "metadata": {},
   "outputs": [],
   "source": []
  }
 ],
 "metadata": {
  "kernelspec": {
   "display_name": "Python 3",
   "language": "python",
   "name": "python3"
  },
  "language_info": {
   "codemirror_mode": {
    "name": "ipython",
    "version": 3
   },
   "file_extension": ".py",
   "mimetype": "text/x-python",
   "name": "python",
   "nbconvert_exporter": "python",
   "pygments_lexer": "ipython3",
   "version": "3.11.4"
  },
  "orig_nbformat": 4
 },
 "nbformat": 4,
 "nbformat_minor": 2
}
